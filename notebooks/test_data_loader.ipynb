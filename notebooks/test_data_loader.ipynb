{
 "cells": [
  {
   "cell_type": "code",
   "execution_count": null,
   "metadata": {},
   "outputs": [],
   "source": [
    "import sys\n",
    "\n",
    "sys.path.append(\"..\")\n",
    "\n",
    "import numpy as np\n",
    "import torch\n",
    "\n",
    "from data_loader.hybrid_data_loaders import HybridTableLoader, WikiHybridTableDataset\n",
    "from utils.util import load_entity_vocab\n",
    "\n",
    "torch.manual_seed(0)\n",
    "np.random.seed(0)"
   ]
  },
  {
   "cell_type": "code",
   "execution_count": null,
   "metadata": {},
   "outputs": [],
   "source": [
    "mode = 0\n",
    "data_dir = \"/home/belerico/Desktop/unimib/data/tables/turl/\"\n",
    "entity_vocab = load_entity_vocab(data_dir, ignore_bad_title=True, min_ent_count=2)"
   ]
  },
  {
   "cell_type": "code",
   "execution_count": null,
   "metadata": {},
   "outputs": [],
   "source": [
    "train_dataset = WikiHybridTableDataset(\n",
    "    data_dir,\n",
    "    entity_vocab,\n",
    "    max_cell=100,\n",
    "    max_input_tok=350,\n",
    "    max_input_ent=150,\n",
    "    src=\"train\",\n",
    "    max_length=[50, 10, 10],\n",
    "    force_new=True,\n",
    "    tokenizer=None,\n",
    "    mode=mode,\n",
    ")"
   ]
  },
  {
   "cell_type": "code",
   "execution_count": null,
   "metadata": {},
   "outputs": [],
   "source": [
    "train_data_generator = HybridTableLoader(\n",
    "    train_dataset,\n",
    "    10,\n",
    "    num_workers=0,\n",
    "    mlm_probability=0.5,\n",
    "    ent_mlm_probability=0.5,\n",
    "    is_train=True,\n",
    "    use_cand=False,\n",
    "    mode=mode,\n",
    ")"
   ]
  }
 ],
 "metadata": {
  "kernelspec": {
   "display_name": "turl",
   "language": "python",
   "name": "python3"
  },
  "language_info": {
   "codemirror_mode": {
    "name": "ipython",
    "version": 3
   },
   "file_extension": ".py",
   "mimetype": "text/x-python",
   "name": "python",
   "nbconvert_exporter": "python",
   "pygments_lexer": "ipython3",
   "version": "3.9.18"
  }
 },
 "nbformat": 4,
 "nbformat_minor": 2
}
