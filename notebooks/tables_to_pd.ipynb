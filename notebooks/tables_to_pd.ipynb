{
 "cells": [
  {
   "cell_type": "code",
   "execution_count": null,
   "metadata": {},
   "outputs": [],
   "source": [
    "import jsonlines as jsonl\n",
    "import pandas as pd"
   ]
  },
  {
   "cell_type": "code",
   "execution_count": null,
   "metadata": {},
   "outputs": [],
   "source": [
    "with jsonl.open(\"example_table_1.jsonl\") as reader:\n",
    "    table = reader.read()"
   ]
  },
  {
   "cell_type": "code",
   "execution_count": null,
   "metadata": {},
   "outputs": [],
   "source": [
    "table"
   ]
  },
  {
   "cell_type": "code",
   "execution_count": null,
   "metadata": {},
   "outputs": [],
   "source": [
    "table_pd = pd.DataFrame.from_records(table[\"tableData\"], columns=table[\"processed_tableHeaders\"])"
   ]
  },
  {
   "cell_type": "code",
   "execution_count": null,
   "metadata": {},
   "outputs": [],
   "source": [
    "metadata = [\"pgTitle\", \"sectionTitle\", \"tableCaption\", \"pgId\", \"tableId\", \"entityColumn\", \"subject_column\"]\n",
    "for meta in metadata:\n",
    "    table_pd.attrs[meta] = table[meta]\n",
    "table_pd.attrs"
   ]
  },
  {
   "cell_type": "code",
   "execution_count": null,
   "metadata": {},
   "outputs": [],
   "source": [
    "def get_text_and_id(x):\n",
    "    ids = \"\"\n",
    "    if \"surfaceLinks\" in x:\n",
    "        for i, sl in enumerate(x[\"surfaceLinks\"]):\n",
    "            if \"target\" in sl and \"id\" in sl[\"target\"]:\n",
    "                ids += str(sl[\"target\"][\"id\"])\n",
    "            if i < len(x[\"surfaceLinks\"]) - 1:\n",
    "                ids += \",\"\n",
    "        if ids in {\"\", \"-1\"}:\n",
    "            ids = \"None\"\n",
    "    text = \"None\"\n",
    "    if \"text\" in x and x[\"text\"] != \"\":\n",
    "        text = x[\"text\"]\n",
    "    return (text + \";\" + ids).strip()"
   ]
  },
  {
   "cell_type": "code",
   "execution_count": null,
   "metadata": {},
   "outputs": [],
   "source": [
    "table_pd = table_pd.map(get_text_and_id)"
   ]
  },
  {
   "cell_type": "code",
   "execution_count": null,
   "metadata": {},
   "outputs": [],
   "source": [
    "table_pd.attrs"
   ]
  },
  {
   "cell_type": "code",
   "execution_count": null,
   "metadata": {},
   "outputs": [],
   "source": [
    "table_pd"
   ]
  },
  {
   "cell_type": "code",
   "execution_count": null,
   "metadata": {},
   "outputs": [],
   "source": [
    "table_pd_split = pd.concat([table_pd[c].str.split(\";\", expand=True).add_prefix(c) for c in table_pd.columns], axis=1)"
   ]
  },
  {
   "cell_type": "code",
   "execution_count": null,
   "metadata": {},
   "outputs": [],
   "source": [
    "table_pd.attrs"
   ]
  },
  {
   "cell_type": "code",
   "execution_count": null,
   "metadata": {},
   "outputs": [],
   "source": [
    "table_pd_split.columns = table_pd_split.columns.str.replace(\"0\", \"\")\n",
    "table_pd_split.columns = table_pd_split.columns.str.replace(\"1\", \"_ids\")"
   ]
  },
  {
   "cell_type": "code",
   "execution_count": null,
   "metadata": {},
   "outputs": [],
   "source": [
    "table_pd_split"
   ]
  },
  {
   "cell_type": "code",
   "execution_count": null,
   "metadata": {},
   "outputs": [],
   "source": [
    "table_pd.attrs"
   ]
  }
 ],
 "metadata": {
  "kernelspec": {
   "display_name": "turl",
   "language": "python",
   "name": "python3"
  },
  "language_info": {
   "codemirror_mode": {
    "name": "ipython",
    "version": 3
   },
   "file_extension": ".py",
   "mimetype": "text/x-python",
   "name": "python",
   "nbconvert_exporter": "python",
   "pygments_lexer": "ipython3",
   "version": "3.9.0"
  }
 },
 "nbformat": 4,
 "nbformat_minor": 2
}
