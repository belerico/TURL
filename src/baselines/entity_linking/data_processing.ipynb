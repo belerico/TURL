{
 "cells": [
  {
   "cell_type": "code",
   "execution_count": 1,
   "metadata": {},
   "outputs": [
    {
     "name": "stderr",
     "output_type": "stream",
     "text": [
      "/tmp/ipykernel_2786861/2894854435.py:2: TqdmWarning: IProgress not found. Please update jupyter and ipywidgets. See https://ipywidgets.readthedocs.io/en/stable/user_install.html\n",
      "  from tqdm.autonotebook import tqdm\n",
      "24/02/16 14:06:51 WARN Utils: Your hostname, chronos-gpu1 resolves to a loopback address: 127.0.1.1; using 10.0.0.113 instead (on interface ens18)\n",
      "24/02/16 14:06:51 WARN Utils: Set SPARK_LOCAL_IP if you need to bind to another address\n",
      "Setting default log level to \"WARN\".\n",
      "To adjust logging level use sc.setLogLevel(newLevel). For SparkR, use setLogLevel(newLevel).\n",
      "24/02/16 14:06:52 WARN NativeCodeLoader: Unable to load native-hadoop library for your platform... using builtin-java classes where applicable\n"
     ]
    }
   ],
   "source": [
    "import findspark\n",
    "from tqdm.autonotebook import tqdm\n",
    "\n",
    "findspark.init()\n",
    "import pyspark\n",
    "from pyspark import SparkContext\n",
    "\n",
    "conf = pyspark.SparkConf().setAll(\n",
    "    [\n",
    "        (\"spark.executor.memory\", \"8g\"),\n",
    "        (\"spark.executor.cores\", \"2\"),\n",
    "        (\"spark.executor.instances\", \"7\"),\n",
    "        (\"spark.driver.memory\", \"150g\"),\n",
    "        (\"spark.driver.maxResultSize\", \"100g\"),\n",
    "        (\"spark.driver.extraClassPath\", \"~/Downloads/sqlite-jdbc-3.36.0.3.jar\"),\n",
    "    ]\n",
    ")\n",
    "sc = SparkContext(conf=conf)\n",
    "\n",
    "from pyspark.sql import SparkSession\n",
    "from pyspark.sql import functions as F\n",
    "from pyspark.sql.types import ArrayType, FloatType, Row, StringType\n",
    "\n",
    "spark = SparkSession(sc)\n",
    "\n",
    "import json\n",
    "import re\n",
    "from operator import add\n",
    "from urllib.parse import unquote\n",
    "\n",
    "import numpy as np"
   ]
  },
  {
   "cell_type": "code",
   "execution_count": 2,
   "metadata": {},
   "outputs": [],
   "source": [
    "def numpy_describe(array):\n",
    "    print(\"count\", len(array))\n",
    "    print(\"min\", np.min(array))\n",
    "    print(\"max\", np.max(array))\n",
    "    print(\"mean\", np.mean(array))\n",
    "    print(\"std\", np.std(array))\n",
    "    print(\"10%\", np.percentile(array, 10))\n",
    "    print(\"25%\", np.percentile(array, 25))\n",
    "    print(\"50%\", np.percentile(array, 50))\n",
    "    print(\"60%\", np.percentile(array, 60))\n",
    "    print(\"75%\", np.percentile(array, 75))\n",
    "    print(\"80%\", np.percentile(array, 80))\n",
    "    print(\"90%\", np.percentile(array, 90))"
   ]
  },
  {
   "cell_type": "code",
   "execution_count": 3,
   "metadata": {},
   "outputs": [
    {
     "name": "stdout",
     "output_type": "stream",
     "text": [
      "+------------+--------------------+-----------+\n",
      "|wikipedia_id|     wikipedia_title|wikidata_id|\n",
      "+------------+--------------------+-----------+\n",
      "|          10| AccessibleComputing|   Q3097841|\n",
      "|          12|           Anarchism|      Q6199|\n",
      "|          13|  AfghanistanHistory|    Q188872|\n",
      "|          14|AfghanistanGeography|   Q1637198|\n",
      "|          15|   AfghanistanPeople|   Q1075999|\n",
      "|          18|AfghanistanCommun...|   Q2658920|\n",
      "|          19|AfghanistanTransp...|    Q509443|\n",
      "|          20| AfghanistanMilitary|  Q11062919|\n",
      "|          21|AfghanistanTransn...|   Q4113710|\n",
      "|          23| AssistiveTechnology|    Q688498|\n",
      "|          24|        AmoeboidTaxa|    Q506524|\n",
      "|          25|              Autism|     Q38404|\n",
      "|          27|      AlbaniaHistory|    Q213833|\n",
      "|          29|       AlbaniaPeople|    Q583150|\n",
      "|          30|        AsWeMayThink|    Q610709|\n",
      "|          35|   AlbaniaGovernment|    Q917351|\n",
      "|          36|      AlbaniaEconomy|      Q8055|\n",
      "|          39|              Albedo|    Q101038|\n",
      "|          40|AfroAsiaticLanguages|     Q25268|\n",
      "|          42|  ArtificalLanguages|     Q33215|\n",
      "+------------+--------------------+-----------+\n",
      "only showing top 20 rows\n",
      "\n"
     ]
    }
   ],
   "source": [
    "# you can create the index-enwiki dump use this library https://github.com/jcklie/wikimapper\n",
    "wikipedia_wikidata_mapping = (\n",
    "    spark.read.format(\"jdbc\")\n",
    "    .options(\n",
    "        url=\"jdbc:sqlite:../../../../../turl-data/index_enwiki-20190420.db\",\n",
    "        driver=\"org.sqlite.JDBC\",\n",
    "        dbtable=\"mapping\",\n",
    "    )\n",
    "    .load()\n",
    ")\n",
    "wikipedia_wikidata_mapping.show()"
   ]
  },
  {
   "cell_type": "code",
   "execution_count": null,
   "metadata": {},
   "outputs": [],
   "source": [
    "# we use dbpedia abstracts and types, so information related to freebase can be ignored\n",
    "wiki_mid_mapping = spark.createDataFrame(\n",
    "    sc.textFile(\"../../../freebase_utils/freebase_dumped/mid2wiki.txt\")\n",
    "    .map(lambda x: x.split())\n",
    "    .map(lambda x: Row(wikipedia_id=int(x[1]), freebase_mid=x[0]))\n",
    ")"
   ]
  },
  {
   "cell_type": "code",
   "execution_count": null,
   "metadata": {},
   "outputs": [],
   "source": [
    "dbpedia_types = dict(\n",
    "    spark.createDataFrame(\n",
    "        sc.textFile(\"../../../freebase_utils/dbpedia_2019_08_30/instance_types_en.ttl\")\n",
    "        .map(lambda x: x.split())\n",
    "        .map(\n",
    "            lambda x: Row(\n",
    "                wikipedia_title=unquote(x[0][1:-1]).replace(\"http://dbpedia.org/resource/\", \"\"),\n",
    "                type=x[2][1:-1].split(\"/\")[-1],\n",
    "            )\n",
    "        )\n",
    "    )\n",
    "    .join(wikipedia_wikidata_mapping, \"wikipedia_title\", \"inner\")\n",
    "    .rdd.map(lambda x: (x[\"wikidata_id\"], [x[\"type\"]]))\n",
    "    .reduceByKey(add)\n",
    "    .collect()\n",
    ")\n",
    "print(len(dbpedia_types))"
   ]
  },
  {
   "cell_type": "code",
   "execution_count": null,
   "metadata": {},
   "outputs": [],
   "source": [
    "dbpedia_abstract = dict(\n",
    "    spark.createDataFrame(\n",
    "        sc.textFile(\"../../../freebase_utils/dbpedia_2019_08_30/short_abstracts_en.ttl\")\n",
    "        .map(lambda x: re.match(r\"(<.+>) (<.+>) (\\\".+\\\")\", x))\n",
    "        .filter(lambda x: x is not None)\n",
    "        .map(\n",
    "            lambda x: Row(\n",
    "                wikipedia_title=unquote(x.group(1)[1:-1]).replace(\"http://dbpedia.org/resource/\", \"\"),\n",
    "                abstract=x.group(3)[1:-1].replace('\\\\\"', '\"'),\n",
    "            )\n",
    "        )\n",
    "    )\n",
    "    .join(wikipedia_wikidata_mapping, \"wikipedia_title\", \"inner\")\n",
    "    .rdd.map(lambda x: (x[\"wikidata_id\"], x[\"abstract\"]))\n",
    "    .collect()\n",
    ")\n",
    "print(len(dbpedia_abstract))"
   ]
  },
  {
   "cell_type": "code",
   "execution_count": null,
   "metadata": {},
   "outputs": [],
   "source": [
    "dbpedia_abstract.show()"
   ]
  },
  {
   "cell_type": "code",
   "execution_count": null,
   "metadata": {},
   "outputs": [],
   "source": [
    "fb_en_types = spark.createDataFrame(\n",
    "    sc.textFile(\"/data/deng.595/workspace/freebase_utils/freebase_dumped/fb_en_types.txt\")\n",
    "    .map(lambda x: x.split(\"\\t\"))\n",
    "    .map(\n",
    "        lambda x: Row(\n",
    "            freebase_mid=x[0],\n",
    "            types=[\n",
    "                z\n",
    "                for z in json.loads(x[1])\n",
    "                if (not z.startswith(\"user.\") and not z.startswith(\"base.\") and not z.startswith(\"common.\"))\n",
    "            ],\n",
    "        )\n",
    "    )\n",
    ")"
   ]
  },
  {
   "cell_type": "code",
   "execution_count": 4,
   "metadata": {},
   "outputs": [],
   "source": [
    "# load the raw tables\n",
    "data_dir = \"~/turl-data/\"\n",
    "train_tables = sc.textFile(data_dir + \"train_tables.jsonl\").map(lambda x: json.loads(x))\n",
    "val_tables = sc.textFile(data_dir + \"dev_tables.jsonl\").map(lambda x: json.loads(x))\n",
    "test_tables = sc.textFile(data_dir + \"test_tables.jsonl\").map(lambda x: json.loads(x))"
   ]
  },
  {
   "cell_type": "code",
   "execution_count": 5,
   "metadata": {},
   "outputs": [
    {
     "name": "stderr",
     "output_type": "stream",
     "text": [
      "                                                                                \r"
     ]
    },
    {
     "data": {
      "text/plain": [
       "4964"
      ]
     },
     "execution_count": 5,
     "metadata": {},
     "output_type": "execute_result"
    }
   ],
   "source": [
    "test_tables.map(lambda x: x[\"_id\"]).count()"
   ]
  },
  {
   "cell_type": "code",
   "execution_count": 6,
   "metadata": {},
   "outputs": [],
   "source": [
    "def get_mentions(table):\n",
    "    results = []\n",
    "    entity_columns = table.get(\"entityColumn\", [])\n",
    "    entity_cells = np.array(table.get(\"entityCell\", [[]]))\n",
    "    rows = table.get(\"tableData\", {})\n",
    "    num_rows = len(rows)\n",
    "    num_columns = len(rows[0])\n",
    "    entities = set()\n",
    "    for i in range(num_rows):\n",
    "        for j in entity_columns:\n",
    "            if entity_cells[i, j] == 1:\n",
    "                results.append(\n",
    "                    Row(\n",
    "                        table_id=table[\"_id\"],\n",
    "                        table_pgTitle=table[\"pgTitle\"],\n",
    "                        i=i,\n",
    "                        j=j,\n",
    "                        mention=rows[i][j][\"surfaceLinks\"][0][\"surface\"],\n",
    "                        wikipedia_id=rows[i][j][\"surfaceLinks\"][0][\"target\"][\"id\"],\n",
    "                        wikipedia_title=rows[i][j][\"surfaceLinks\"][0][\"target\"][\"title\"],\n",
    "                    )\n",
    "                )\n",
    "    return results"
   ]
  },
  {
   "cell_type": "code",
   "execution_count": 7,
   "metadata": {},
   "outputs": [],
   "source": [
    "# data for ours\n",
    "train_mentions = spark.createDataFrame(train_tables.flatMap(get_mentions))\n",
    "val_mentions = spark.createDataFrame(val_tables.flatMap(get_mentions))\n",
    "test_mentions = spark.createDataFrame(test_tables.flatMap(get_mentions))"
   ]
  },
  {
   "cell_type": "code",
   "execution_count": null,
   "metadata": {},
   "outputs": [],
   "source": [
    "train_mentions.show()"
   ]
  },
  {
   "cell_type": "code",
   "execution_count": null,
   "metadata": {},
   "outputs": [],
   "source": [
    "# data for wikiGS\n",
    "wikipedia_gs_entity_mentions = spark.createDataFrame(\n",
    "    sc.textFile(\"../../../../../turl-data/WikipediaGS_json/entities_instance\")\n",
    "    .map(json.loads)\n",
    "    .flatMap(\n",
    "        lambda x: [\n",
    "            Row(\n",
    "                i=z[2],\n",
    "                tableId=unquote(x[\"tableId\"]),\n",
    "                is_gs=1,\n",
    "                table_pgTitle=unquote(x[\"url\"]).split(\"/\")[-1].replace(\"_\", \" \"),\n",
    "                wikipedia_title=unquote(z[0]).replace(\"http://dbpedia.org/resource/\", \"\"),\n",
    "                mention=z[1],\n",
    "            )\n",
    "            for z in x[\"mappings\"]\n",
    "        ]\n",
    "    )\n",
    ")"
   ]
  },
  {
   "cell_type": "code",
   "execution_count": null,
   "metadata": {},
   "outputs": [],
   "source": [
    "wikipedia_gs_entity_mentions.show()"
   ]
  },
  {
   "cell_type": "code",
   "execution_count": null,
   "metadata": {},
   "outputs": [],
   "source": [
    "def get_gs_mentions(table):\n",
    "    tableId = unquote(table[\"tableId\"])\n",
    "    results = []\n",
    "    rows = table.get(\"contents\", {})\n",
    "    for i, row in enumerate(rows):\n",
    "        for j, cell in enumerate(row):\n",
    "            if \"wikiPageId\" in cell:\n",
    "                results.append(\n",
    "                    Row(tableId=tableId, i=i, j=j, mention=cell[\"data\"], wikipedia_title=unquote(cell[\"wikiPageId\"]))\n",
    "                )\n",
    "    return results"
   ]
  },
  {
   "cell_type": "code",
   "execution_count": null,
   "metadata": {},
   "outputs": [],
   "source": [
    "def get_gs_context(table):\n",
    "    x = {}\n",
    "    x[\"tableId\"] = unquote(table[\"tableId\"])\n",
    "    x[\"pgTitle\"] = table.get(\"title\", \"\")\n",
    "    if x[\"pgTitle\"] is None:\n",
    "        x[\"pgTitle\"] = \"\"\n",
    "    else:\n",
    "        x[\"pgTitle\"] = x[\"pgTitle\"].replace(\"- Wikipedia, the free encyclopedia\", \"\")\n",
    "    x[\"sectionTitle\"] = \"\"\n",
    "    x[\"tableCaption\"] = table.get(\"context\", \"\")\n",
    "    if x[\"tableCaption\"] is None:\n",
    "        x[\"tableCaption\"] = \"\"\n",
    "    x[\"tableCaption\"] = x[\"tableCaption\"].replace(\"[edit]\", \"\")\n",
    "    headers = []\n",
    "    for i, row in enumerate(table[\"contents\"]):\n",
    "        for j, cell in enumerate(row):\n",
    "            if len(headers) <= j:\n",
    "                headers.append([\"\"])\n",
    "            if cell.get(\"isHeader\", False):\n",
    "                headers[j].append(cell[\"data\"])\n",
    "    x[\"processed_tableHeaders\"] = [\" \".join(h) for h in headers]\n",
    "    return x"
   ]
  },
  {
   "cell_type": "code",
   "execution_count": null,
   "metadata": {},
   "outputs": [],
   "source": [
    "wikipedia_gs_tables = sc.textFile(\"../../../../../turl-data/WikipediaGS_json/tables_instance\").map(json.loads)"
   ]
  },
  {
   "cell_type": "code",
   "execution_count": null,
   "metadata": {},
   "outputs": [],
   "source": [
    "wikipedia_gs_raw_mentions = spark.createDataFrame(wikipedia_gs_tables.flatMap(get_gs_mentions))"
   ]
  },
  {
   "cell_type": "code",
   "execution_count": null,
   "metadata": {},
   "outputs": [],
   "source": [
    "wikipedia_gs_tables = wikipedia_gs_tables.map(get_gs_context)"
   ]
  },
  {
   "cell_type": "code",
   "execution_count": null,
   "metadata": {},
   "outputs": [],
   "source": [
    "wikipedia_gs_tables.take(10)"
   ]
  },
  {
   "cell_type": "code",
   "execution_count": null,
   "metadata": {},
   "outputs": [],
   "source": [
    "wikipedia_gs_raw_mentions.show()"
   ]
  },
  {
   "cell_type": "code",
   "execution_count": null,
   "metadata": {},
   "outputs": [],
   "source": [
    "wikipedia_gs_entity_mentions = wikipedia_gs_entity_mentions.join(\n",
    "    wikipedia_gs_raw_mentions, [\"i\", \"tableId\", \"mention\", \"wikipedia_title\"], \"inner\"\n",
    ")"
   ]
  },
  {
   "cell_type": "code",
   "execution_count": null,
   "metadata": {},
   "outputs": [],
   "source": [
    "print(train_mentions.count())\n",
    "train_mentions = train_mentions.join(\n",
    "    wikipedia_gs_entity_mentions.select(\"table_pgTitle\", \"is_gs\").dropDuplicates(), \"table_pgTitle\", \"left\"\n",
    ").where(F.isnull(\"is_gs\"))\n",
    "print(train_mentions.count())\n",
    "print(val_mentions.count())\n",
    "val_mentions = val_mentions.join(\n",
    "    wikipedia_gs_entity_mentions.select(\"table_pgTitle\", \"is_gs\").dropDuplicates(), \"table_pgTitle\", \"left\"\n",
    ").where(F.isnull(\"is_gs\"))\n",
    "print(val_mentions.count())"
   ]
  },
  {
   "cell_type": "code",
   "execution_count": null,
   "metadata": {},
   "outputs": [],
   "source": [
    "print(wikipedia_gs_entity_mentions.select(\"wikipedia_title\").dropDuplicates().count())\n",
    "print(dbpedia_types.select(\"wikipedia_title\").dropDuplicates().count())\n",
    "print(\n",
    "    wikipedia_gs_entity_mentions.select(\"wikipedia_title\")\n",
    "    .join(dbpedia_types, \"wikipedia_title\", \"inner\")\n",
    "    .select(\"wikipedia_title\")\n",
    "    .dropDuplicates()\n",
    "    .count()\n",
    ")\n",
    "print(\n",
    "    wikipedia_gs_entity_mentions.select(\"wikipedia_title\")\n",
    "    .join(dbpedia_abstract, \"wikipedia_title\", \"inner\")\n",
    "    .select(\"wikipedia_title\")\n",
    "    .dropDuplicates()\n",
    "    .count()\n",
    ")"
   ]
  },
  {
   "cell_type": "code",
   "execution_count": null,
   "metadata": {},
   "outputs": [],
   "source": [
    "print(wikipedia_gs_entity_mentions.count())\n",
    "print(wikipedia_gs_entity_mentions.select(\"mention\").dropDuplicates().count())\n",
    "wikipedia_gs_entity_mentions.show()"
   ]
  },
  {
   "cell_type": "code",
   "execution_count": null,
   "metadata": {},
   "outputs": [],
   "source": [
    "entity_mentions = sc.textFile(\"../../../../../turl-data/WikipediaGS_json/entity_linking/tableMentions.json\").map(\n",
    "    json.loads\n",
    ")\n",
    "display(entity_mentions.take(1))\n",
    "display(entity_mentions.count())"
   ]
  },
  {
   "cell_type": "code",
   "execution_count": null,
   "metadata": {},
   "outputs": [],
   "source": [
    "entity_mentions_surface = entity_mentions.map(lambda x: (x[\"surfaceForm\"])).distinct()\n",
    "print(entity_mentions_surface.count())"
   ]
  },
  {
   "cell_type": "code",
   "execution_count": null,
   "metadata": {},
   "outputs": [],
   "source": [
    "entity_mentions_surface = wikipedia_gs_entity_mentions.rdd.map(lambda x: x[\"mention\"]).distinct().collect()\n",
    "print(len(entity_mentions_surface))"
   ]
  },
  {
   "cell_type": "code",
   "execution_count": 28,
   "metadata": {},
   "outputs": [],
   "source": [
    "import json\n",
    "import time\n",
    "import urllib.parse\n",
    "import urllib.request\n",
    "from multiprocessing import Pool"
   ]
  },
  {
   "cell_type": "code",
   "execution_count": 29,
   "metadata": {},
   "outputs": [],
   "source": [
    "def wikidata_lookup(query):\n",
    "    service_url = (\n",
    "        \"https://www.wikidata.org/w/api.php?action=wbsearchentities&search={}&language=en&limit=50&format=json\"\n",
    "    )\n",
    "    url = service_url.format(urllib.parse.quote(query))\n",
    "    for i in range(3):\n",
    "        try:\n",
    "            response = urllib.request.urlopen(url)\n",
    "        except urllib.error.HTTPError as e:\n",
    "            if e.code == 429 or e.code == 503:\n",
    "                response = e.code\n",
    "                time.sleep(1)\n",
    "                continue\n",
    "            else:\n",
    "                response = e.code\n",
    "                break\n",
    "        except urllib.error.URLError as e:\n",
    "            response = None\n",
    "            break\n",
    "        else:\n",
    "            response = json.loads(response.read())\n",
    "            break\n",
    "    #     if isinstance(response, dict):\n",
    "    #         response = [[z.get('id'),z.get('label'),z.get('description')] for z in response.get('search', [])]\n",
    "    return [query, response]"
   ]
  },
  {
   "cell_type": "code",
   "execution_count": 30,
   "metadata": {},
   "outputs": [
    {
     "data": {
      "text/plain": [
       "['Michael Grant',\n",
       " {'searchinfo': {'search': 'Michael Grant'},\n",
       "  'search': [{'id': 'Q1351047',\n",
       "    'title': 'Q1351047',\n",
       "    'pageid': 1290671,\n",
       "    'display': {'label': {'value': 'Michael Grant', 'language': 'en'},\n",
       "     'description': {'value': 'British classicist, numismatist, historian and author (1914-2004)',\n",
       "      'language': 'en'}},\n",
       "    'repository': 'wikidata',\n",
       "    'url': '//www.wikidata.org/wiki/Q1351047',\n",
       "    'concepturi': 'http://www.wikidata.org/entity/Q1351047',\n",
       "    'label': 'Michael Grant',\n",
       "    'description': 'British classicist, numismatist, historian and author (1914-2004)',\n",
       "    'match': {'type': 'label', 'language': 'en', 'text': 'Michael Grant'}},\n",
       "   {'id': 'Q1752975',\n",
       "    'title': 'Q1752975',\n",
       "    'pageid': 1685711,\n",
       "    'display': {'label': {'value': 'Michael Grant', 'language': 'en'},\n",
       "     'description': {'value': 'author from the United States. science fiction writer',\n",
       "      'language': 'en'}},\n",
       "    'repository': 'wikidata',\n",
       "    'url': '//www.wikidata.org/wiki/Q1752975',\n",
       "    'concepturi': 'http://www.wikidata.org/entity/Q1752975',\n",
       "    'label': 'Michael Grant',\n",
       "    'description': 'author from the United States. science fiction writer',\n",
       "    'match': {'type': 'label', 'language': 'en', 'text': 'Michael Grant'}},\n",
       "   {'id': 'Q1719607',\n",
       "    'title': 'Q1719607',\n",
       "    'pageid': 1652734,\n",
       "    'display': {'label': {'value': 'Michael Grant', 'language': 'en'},\n",
       "     'description': {'value': 'boxer from the United States',\n",
       "      'language': 'en'}},\n",
       "    'repository': 'wikidata',\n",
       "    'url': '//www.wikidata.org/wiki/Q1719607',\n",
       "    'concepturi': 'http://www.wikidata.org/entity/Q1719607',\n",
       "    'label': 'Michael Grant',\n",
       "    'description': 'boxer from the United States',\n",
       "    'match': {'type': 'label', 'language': 'en', 'text': 'Michael Grant'}},\n",
       "   {'id': 'Q438561',\n",
       "    'title': 'Q438561',\n",
       "    'pageid': 413572,\n",
       "    'display': {'label': {'value': 'Michael Grant', 'language': 'en'},\n",
       "     'description': {'value': 'Wikimedia disambiguation page',\n",
       "      'language': 'en'}},\n",
       "    'repository': 'wikidata',\n",
       "    'url': '//www.wikidata.org/wiki/Q438561',\n",
       "    'concepturi': 'http://www.wikidata.org/entity/Q438561',\n",
       "    'label': 'Michael Grant',\n",
       "    'description': 'Wikimedia disambiguation page',\n",
       "    'match': {'type': 'label', 'language': 'en', 'text': 'Michael Grant'}},\n",
       "   {'id': 'Q51152545',\n",
       "    'title': 'Q51152545',\n",
       "    'pageid': 52073902,\n",
       "    'display': {'label': {'value': 'Michael P Grant', 'language': 'en'},\n",
       "     'description': {'value': 'researcher (ORCID 0000-0003-3758-5009)',\n",
       "      'language': 'en'}},\n",
       "    'repository': 'wikidata',\n",
       "    'url': '//www.wikidata.org/wiki/Q51152545',\n",
       "    'concepturi': 'http://www.wikidata.org/entity/Q51152545',\n",
       "    'label': 'Michael P Grant',\n",
       "    'description': 'researcher (ORCID 0000-0003-3758-5009)',\n",
       "    'match': {'type': 'alias', 'language': 'en', 'text': 'Michael Grant'},\n",
       "    'aliases': ['Michael Grant']},\n",
       "   {'id': 'Q4306821',\n",
       "    'title': 'Q4306821',\n",
       "    'pageid': 4116646,\n",
       "    'display': {'label': {'value': 'Mukunda Goswami', 'language': 'en'},\n",
       "     'description': {'value': 'American writer, somposer, spiritual leader (guru) within the International Society for Krishna Consciousness',\n",
       "      'language': 'en'}},\n",
       "    'repository': 'wikidata',\n",
       "    'url': '//www.wikidata.org/wiki/Q4306821',\n",
       "    'concepturi': 'http://www.wikidata.org/entity/Q4306821',\n",
       "    'label': 'Mukunda Goswami',\n",
       "    'description': 'American writer, somposer, spiritual leader (guru) within the International Society for Krishna Consciousness',\n",
       "    'match': {'type': 'alias', 'language': 'en', 'text': 'Michael Grant'},\n",
       "    'aliases': ['Michael Grant']},\n",
       "   {'id': 'Q3074887',\n",
       "    'title': 'Q3074887',\n",
       "    'pageid': 2938892,\n",
       "    'display': {'label': {'value': 'Mike Grant', 'language': 'en'},\n",
       "     'description': {'value': 'Canadian ice hockey defenceman',\n",
       "      'language': 'en'}},\n",
       "    'repository': 'wikidata',\n",
       "    'url': '//www.wikidata.org/wiki/Q3074887',\n",
       "    'concepturi': 'http://www.wikidata.org/entity/Q3074887',\n",
       "    'label': 'Mike Grant',\n",
       "    'description': 'Canadian ice hockey defenceman',\n",
       "    'match': {'type': 'alias', 'language': 'en', 'text': 'Michael Grant'},\n",
       "    'aliases': ['Michael Grant']},\n",
       "   {'id': 'Q88004801',\n",
       "    'title': 'Q88004801',\n",
       "    'pageid': 87234180,\n",
       "    'display': {'label': {'value': 'Michael Grant', 'language': 'en'},\n",
       "     'description': {'value': 'researcher (ORCID 0000-0002-0377-2036)',\n",
       "      'language': 'en'}},\n",
       "    'repository': 'wikidata',\n",
       "    'url': '//www.wikidata.org/wiki/Q88004801',\n",
       "    'concepturi': 'http://www.wikidata.org/entity/Q88004801',\n",
       "    'label': 'Michael Grant',\n",
       "    'description': 'researcher (ORCID 0000-0002-0377-2036)',\n",
       "    'match': {'type': 'label', 'language': 'en', 'text': 'Michael Grant'}},\n",
       "   {'id': 'Q18686452',\n",
       "    'title': 'Q18686452',\n",
       "    'pageid': 20216675,\n",
       "    'display': {'label': {'value': 'Michael Grant', 'language': 'en'},\n",
       "     'description': {'value': 'American college basketball coach',\n",
       "      'language': 'en'}},\n",
       "    'repository': 'wikidata',\n",
       "    'url': '//www.wikidata.org/wiki/Q18686452',\n",
       "    'concepturi': 'http://www.wikidata.org/entity/Q18686452',\n",
       "    'label': 'Michael Grant',\n",
       "    'description': 'American college basketball coach',\n",
       "    'match': {'type': 'label', 'language': 'en', 'text': 'Michael Grant'}},\n",
       "   {'id': 'Q6830728',\n",
       "    'title': 'Q6830728',\n",
       "    'pageid': 6682619,\n",
       "    'display': {'label': {'value': 'Michael Grant', 'language': 'en'},\n",
       "     'description': {'value': 'Player of American and Canadian football',\n",
       "      'language': 'en'}},\n",
       "    'repository': 'wikidata',\n",
       "    'url': '//www.wikidata.org/wiki/Q6830728',\n",
       "    'concepturi': 'http://www.wikidata.org/entity/Q6830728',\n",
       "    'label': 'Michael Grant',\n",
       "    'description': 'Player of American and Canadian football',\n",
       "    'match': {'type': 'label', 'language': 'en', 'text': 'Michael Grant'}},\n",
       "   {'id': 'Q61989806',\n",
       "    'title': 'Q61989806',\n",
       "    'pageid': 61818064,\n",
       "    'display': {'label': {'value': 'Michael Grant', 'language': 'en'},\n",
       "     'description': {'value': 'American actor', 'language': 'en'}},\n",
       "    'repository': 'wikidata',\n",
       "    'url': '//www.wikidata.org/wiki/Q61989806',\n",
       "    'concepturi': 'http://www.wikidata.org/entity/Q61989806',\n",
       "    'label': 'Michael Grant',\n",
       "    'description': 'American actor',\n",
       "    'match': {'type': 'label', 'language': 'en', 'text': 'Michael Grant'}},\n",
       "   {'id': 'Q73263854',\n",
       "    'title': 'Q73263854',\n",
       "    'pageid': 72907668,\n",
       "    'display': {'label': {'value': 'Michael Grant', 'language': 'en'}},\n",
       "    'repository': 'wikidata',\n",
       "    'url': '//www.wikidata.org/wiki/Q73263854',\n",
       "    'concepturi': 'http://www.wikidata.org/entity/Q73263854',\n",
       "    'label': 'Michael Grant',\n",
       "    'match': {'type': 'label', 'language': 'en', 'text': 'Michael Grant'}},\n",
       "   {'id': 'Q6830729',\n",
       "    'title': 'Q6830729',\n",
       "    'pageid': 6682620,\n",
       "    'display': {'label': {'value': 'Michael Grant', 'language': 'en'},\n",
       "     'description': {'value': 'author from the United States. Crime writer',\n",
       "      'language': 'en'}},\n",
       "    'repository': 'wikidata',\n",
       "    'url': '//www.wikidata.org/wiki/Q6830729',\n",
       "    'concepturi': 'http://www.wikidata.org/entity/Q6830729',\n",
       "    'label': 'Michael Grant',\n",
       "    'description': 'author from the United States. Crime writer',\n",
       "    'match': {'type': 'label', 'language': 'en', 'text': 'Michael Grant'}},\n",
       "   {'id': 'Q113305116',\n",
       "    'title': 'Q113305116',\n",
       "    'pageid': 108099458,\n",
       "    'display': {'label': {'value': 'Michael Grant', 'language': 'en'}},\n",
       "    'repository': 'wikidata',\n",
       "    'url': '//www.wikidata.org/wiki/Q113305116',\n",
       "    'concepturi': 'http://www.wikidata.org/entity/Q113305116',\n",
       "    'label': 'Michael Grant',\n",
       "    'match': {'type': 'label', 'language': 'en', 'text': 'Michael Grant'}},\n",
       "   {'id': 'Q6830732',\n",
       "    'title': 'Q6830732',\n",
       "    'pageid': 6682622,\n",
       "    'display': {'label': {'value': 'Michael Grant', 'language': 'en'},\n",
       "     'description': {'value': 'television host from the United States',\n",
       "      'language': 'en'}},\n",
       "    'repository': 'wikidata',\n",
       "    'url': '//www.wikidata.org/wiki/Q6830732',\n",
       "    'concepturi': 'http://www.wikidata.org/entity/Q6830732',\n",
       "    'label': 'Michael Grant',\n",
       "    'description': 'television host from the United States',\n",
       "    'match': {'type': 'label', 'language': 'en', 'text': 'Michael Grant'}},\n",
       "   {'id': 'Q106596036',\n",
       "    'title': 'Q106596036',\n",
       "    'pageid': 101877735,\n",
       "    'display': {'label': {'value': 'Michael S. K. Grant', 'language': 'en'},\n",
       "     'description': {'value': 'British IT professional', 'language': 'en'}},\n",
       "    'repository': 'wikidata',\n",
       "    'url': '//www.wikidata.org/wiki/Q106596036',\n",
       "    'concepturi': 'http://www.wikidata.org/entity/Q106596036',\n",
       "    'label': 'Michael S. K. Grant',\n",
       "    'description': 'British IT professional',\n",
       "    'match': {'type': 'alias', 'language': 'en', 'text': 'Michael Grant'},\n",
       "    'aliases': ['Michael Grant']},\n",
       "   {'id': 'Q109719613',\n",
       "    'title': 'Q109719613',\n",
       "    'pageid': 104828176,\n",
       "    'display': {'label': {'value': 'Michael Grant', 'language': 'en'},\n",
       "     'description': {'value': 'Australian judge', 'language': 'en'}},\n",
       "    'repository': 'wikidata',\n",
       "    'url': '//www.wikidata.org/wiki/Q109719613',\n",
       "    'concepturi': 'http://www.wikidata.org/entity/Q109719613',\n",
       "    'label': 'Michael Grant',\n",
       "    'description': 'Australian judge',\n",
       "    'match': {'type': 'label', 'language': 'en', 'text': 'Michael Grant'}},\n",
       "   {'id': 'Q96392800',\n",
       "    'title': 'Q96392800',\n",
       "    'pageid': 95106287,\n",
       "    'display': {'label': {'value': 'Michael Grant', 'language': 'en'},\n",
       "     'description': {'value': 'American tennis player', 'language': 'en'}},\n",
       "    'repository': 'wikidata',\n",
       "    'url': '//www.wikidata.org/wiki/Q96392800',\n",
       "    'concepturi': 'http://www.wikidata.org/entity/Q96392800',\n",
       "    'label': 'Michael Grant',\n",
       "    'description': 'American tennis player',\n",
       "    'match': {'type': 'label', 'language': 'en', 'text': 'Michael Grant'}},\n",
       "   {'id': 'Q57428184',\n",
       "    'title': 'Q57428184',\n",
       "    'pageid': 57344598,\n",
       "    'display': {'label': {'value': 'Michael Grant', 'language': 'en'},\n",
       "     'description': {'value': 'researcher (ORCID 0000-0001-6584-9150)',\n",
       "      'language': 'en'}},\n",
       "    'repository': 'wikidata',\n",
       "    'url': '//www.wikidata.org/wiki/Q57428184',\n",
       "    'concepturi': 'http://www.wikidata.org/entity/Q57428184',\n",
       "    'label': 'Michael Grant',\n",
       "    'description': 'researcher (ORCID 0000-0001-6584-9150)',\n",
       "    'match': {'type': 'label', 'language': 'en', 'text': 'Michael Grant'}},\n",
       "   {'id': 'Q102346954',\n",
       "    'title': 'Q102346954',\n",
       "    'pageid': 99117070,\n",
       "    'display': {'label': {'value': 'Michael D. Grant', 'language': 'en'}},\n",
       "    'repository': 'wikidata',\n",
       "    'url': '//www.wikidata.org/wiki/Q102346954',\n",
       "    'concepturi': 'http://www.wikidata.org/entity/Q102346954',\n",
       "    'label': 'Michael D. Grant',\n",
       "    'match': {'type': 'alias', 'language': 'en', 'text': 'Michael Grant'},\n",
       "    'aliases': ['Michael Grant']},\n",
       "   {'id': 'Q96647012',\n",
       "    'title': 'Q96647012',\n",
       "    'pageid': 95216894,\n",
       "    'display': {'label': {'value': 'Michael C Grant', 'language': 'en'},\n",
       "     'description': {'value': 'researcher', 'language': 'en'}},\n",
       "    'repository': 'wikidata',\n",
       "    'url': '//www.wikidata.org/wiki/Q96647012',\n",
       "    'concepturi': 'http://www.wikidata.org/entity/Q96647012',\n",
       "    'label': 'Michael C Grant',\n",
       "    'description': 'researcher',\n",
       "    'match': {'type': 'alias', 'language': 'en', 'text': 'Michael Grant'},\n",
       "    'aliases': ['Michael Grant']},\n",
       "   {'id': 'Q88550269',\n",
       "    'title': 'Q88550269',\n",
       "    'pageid': 87782753,\n",
       "    'display': {'label': {'value': 'Michael J Grant', 'language': 'en'},\n",
       "     'description': {'value': 'researcher', 'language': 'en'}},\n",
       "    'repository': 'wikidata',\n",
       "    'url': '//www.wikidata.org/wiki/Q88550269',\n",
       "    'concepturi': 'http://www.wikidata.org/entity/Q88550269',\n",
       "    'label': 'Michael J Grant',\n",
       "    'description': 'researcher',\n",
       "    'match': {'type': 'alias', 'language': 'en', 'text': 'Michael Grant'},\n",
       "    'aliases': ['Michael Grant']},\n",
       "   {'id': 'Q91472477',\n",
       "    'title': 'Q91472477',\n",
       "    'pageid': 90654507,\n",
       "    'display': {'label': {'value': 'Michael Grant', 'language': 'en'},\n",
       "     'description': {'value': 'researcher (ORCID 0000-0003-2298-631X)',\n",
       "      'language': 'en'}},\n",
       "    'repository': 'wikidata',\n",
       "    'url': '//www.wikidata.org/wiki/Q91472477',\n",
       "    'concepturi': 'http://www.wikidata.org/entity/Q91472477',\n",
       "    'label': 'Michael Grant',\n",
       "    'description': 'researcher (ORCID 0000-0003-2298-631X)',\n",
       "    'match': {'type': 'label', 'language': 'en', 'text': 'Michael Grant'}},\n",
       "   {'id': 'Q56026228',\n",
       "    'title': 'Q56026228',\n",
       "    'pageid': 55975667,\n",
       "    'display': {'label': {'value': 'Michael Grant', 'language': 'en'},\n",
       "     'description': {'value': 'American Heavy Metal singer',\n",
       "      'language': 'en'}},\n",
       "    'repository': 'wikidata',\n",
       "    'url': '//www.wikidata.org/wiki/Q56026228',\n",
       "    'concepturi': 'http://www.wikidata.org/entity/Q56026228',\n",
       "    'label': 'Michael Grant',\n",
       "    'description': 'American Heavy Metal singer',\n",
       "    'match': {'type': 'label', 'language': 'en', 'text': 'Michael Grant'}},\n",
       "   {'id': 'Q92604995',\n",
       "    'title': 'Q92604995',\n",
       "    'pageid': 91769411,\n",
       "    'display': {'label': {'value': 'Michael P Grant', 'language': 'en'},\n",
       "     'description': {'value': 'researcher (ORCID 0000-0002-2948-8391)',\n",
       "      'language': 'en'}},\n",
       "    'repository': 'wikidata',\n",
       "    'url': '//www.wikidata.org/wiki/Q92604995',\n",
       "    'concepturi': 'http://www.wikidata.org/entity/Q92604995',\n",
       "    'label': 'Michael P Grant',\n",
       "    'description': 'researcher (ORCID 0000-0002-2948-8391)',\n",
       "    'match': {'type': 'alias', 'language': 'en', 'text': 'Michael Grant'},\n",
       "    'aliases': ['Michael Grant']},\n",
       "   {'id': 'Q117484653',\n",
       "    'title': 'Q117484653',\n",
       "    'pageid': 112249151,\n",
       "    'display': {'label': {'value': 'Michael D Grant', 'language': 'en'},\n",
       "     'description': {'value': 'researcher', 'language': 'en'}},\n",
       "    'repository': 'wikidata',\n",
       "    'url': '//www.wikidata.org/wiki/Q117484653',\n",
       "    'concepturi': 'http://www.wikidata.org/entity/Q117484653',\n",
       "    'label': 'Michael D Grant',\n",
       "    'description': 'researcher',\n",
       "    'match': {'type': 'alias', 'language': 'en', 'text': 'Michael Grant'},\n",
       "    'aliases': ['Michael Grant']},\n",
       "   {'id': 'Q100982315',\n",
       "    'title': 'Q100982315',\n",
       "    'pageid': 98462299,\n",
       "    'display': {'label': {'value': 'Michael Grant', 'language': 'en'},\n",
       "     'description': {'value': 'college basketball player (2014–2015) Abilene Christian',\n",
       "      'language': 'en'}},\n",
       "    'repository': 'wikidata',\n",
       "    'url': '//www.wikidata.org/wiki/Q100982315',\n",
       "    'concepturi': 'http://www.wikidata.org/entity/Q100982315',\n",
       "    'label': 'Michael Grant',\n",
       "    'description': 'college basketball player (2014–2015) Abilene Christian',\n",
       "    'match': {'type': 'label', 'language': 'en', 'text': 'Michael Grant'}},\n",
       "   {'id': 'Q117249974',\n",
       "    'title': 'Q117249974',\n",
       "    'pageid': 112035094,\n",
       "    'display': {'label': {'value': 'Michael Grant', 'language': 'en'},\n",
       "     'description': {'value': 'Co-CIO, Senior Co-Portfolio Manager, Head of Long/Short Strategies; Calamos Investments',\n",
       "      'language': 'en'}},\n",
       "    'repository': 'wikidata',\n",
       "    'url': '//www.wikidata.org/wiki/Q117249974',\n",
       "    'concepturi': 'http://www.wikidata.org/entity/Q117249974',\n",
       "    'label': 'Michael Grant',\n",
       "    'description': 'Co-CIO, Senior Co-Portfolio Manager, Head of Long/Short Strategies; Calamos Investments',\n",
       "    'match': {'type': 'label', 'language': 'en', 'text': 'Michael Grant'}},\n",
       "   {'id': 'Q121036578',\n",
       "    'title': 'Q121036578',\n",
       "    'pageid': 115479192,\n",
       "    'display': {'label': {'value': 'Michael Grant', 'language': 'en'}},\n",
       "    'repository': 'wikidata',\n",
       "    'url': '//www.wikidata.org/wiki/Q121036578',\n",
       "    'concepturi': 'http://www.wikidata.org/entity/Q121036578',\n",
       "    'label': 'Michael Grant',\n",
       "    'match': {'type': 'label', 'language': 'en', 'text': 'Michael Grant'}},\n",
       "   {'id': 'Q73262621',\n",
       "    'title': 'Q73262621',\n",
       "    'pageid': 72906438,\n",
       "    'display': {'label': {'value': 'Michael Grant', 'language': 'en'},\n",
       "     'description': {'value': 'b. 3/6/43; columnist for San Diego union',\n",
       "      'language': 'en'}},\n",
       "    'repository': 'wikidata',\n",
       "    'url': '//www.wikidata.org/wiki/Q73262621',\n",
       "    'concepturi': 'http://www.wikidata.org/entity/Q73262621',\n",
       "    'label': 'Michael Grant',\n",
       "    'description': 'b. 3/6/43; columnist for San Diego union',\n",
       "    'match': {'type': 'label', 'language': 'en', 'text': 'Michael Grant'}},\n",
       "   {'id': 'Q311684',\n",
       "    'title': 'Q311684',\n",
       "    'pageid': 299868,\n",
       "    'display': {'label': {'value': 'Michael Ignatieff', 'language': 'en'},\n",
       "     'description': {'value': 'Canadian professor, writer and politician',\n",
       "      'language': 'en'}},\n",
       "    'repository': 'wikidata',\n",
       "    'url': '//www.wikidata.org/wiki/Q311684',\n",
       "    'concepturi': 'http://www.wikidata.org/entity/Q311684',\n",
       "    'label': 'Michael Ignatieff',\n",
       "    'description': 'Canadian professor, writer and politician',\n",
       "    'match': {'type': 'alias',\n",
       "     'language': 'en',\n",
       "     'text': 'Michael Grant Ignatieff'},\n",
       "    'aliases': ['Michael Grant Ignatieff']},\n",
       "   {'id': 'Q3308554',\n",
       "    'title': 'Q3308554',\n",
       "    'pageid': 3154994,\n",
       "    'display': {'label': {'value': 'Michael Grant Terry', 'language': 'en'},\n",
       "     'description': {'value': 'American actor', 'language': 'en'}},\n",
       "    'repository': 'wikidata',\n",
       "    'url': '//www.wikidata.org/wiki/Q3308554',\n",
       "    'concepturi': 'http://www.wikidata.org/entity/Q3308554',\n",
       "    'label': 'Michael Grant Terry',\n",
       "    'description': 'American actor',\n",
       "    'match': {'type': 'label',\n",
       "     'language': 'en',\n",
       "     'text': 'Michael Grant Terry'}},\n",
       "   {'id': 'Q4204272',\n",
       "    'title': 'Q4204272',\n",
       "    'pageid': 4013542,\n",
       "    'display': {'label': {'value': 'Michael Harriman', 'language': 'en'},\n",
       "     'description': {'value': 'association football player',\n",
       "      'language': 'en'}},\n",
       "    'repository': 'wikidata',\n",
       "    'url': '//www.wikidata.org/wiki/Q4204272',\n",
       "    'concepturi': 'http://www.wikidata.org/entity/Q4204272',\n",
       "    'label': 'Michael Harriman',\n",
       "    'description': 'association football player',\n",
       "    'match': {'type': 'alias',\n",
       "     'language': 'en',\n",
       "     'text': 'Michael Grant Harriman'},\n",
       "    'aliases': ['Michael Grant Harriman']},\n",
       "   {'id': 'Q3308223',\n",
       "    'title': 'Q3308223',\n",
       "    'pageid': 3154686,\n",
       "    'display': {'label': {'value': 'Michael Grant, 12th Baron de Longueuil',\n",
       "      'language': 'en'},\n",
       "     'description': {'value': 'medical practitioner, painter',\n",
       "      'language': 'en'}},\n",
       "    'repository': 'wikidata',\n",
       "    'url': '//www.wikidata.org/wiki/Q3308223',\n",
       "    'concepturi': 'http://www.wikidata.org/entity/Q3308223',\n",
       "    'label': 'Michael Grant, 12th Baron de Longueuil',\n",
       "    'description': 'medical practitioner, painter',\n",
       "    'match': {'type': 'label',\n",
       "     'language': 'en',\n",
       "     'text': 'Michael Grant, 12th Baron de Longueuil'}},\n",
       "   {'id': 'Q860857',\n",
       "    'title': 'Q860857',\n",
       "    'pageid': 812337,\n",
       "    'display': {'label': {'value': 'Mike Marshall', 'language': 'en'},\n",
       "     'description': {'value': 'American baseball player (b. 1943)',\n",
       "      'language': 'en'}},\n",
       "    'repository': 'wikidata',\n",
       "    'url': '//www.wikidata.org/wiki/Q860857',\n",
       "    'concepturi': 'http://www.wikidata.org/entity/Q860857',\n",
       "    'label': 'Mike Marshall',\n",
       "    'description': 'American baseball player (b. 1943)',\n",
       "    'match': {'type': 'alias',\n",
       "     'language': 'en',\n",
       "     'text': 'Michael Grant Marshall'},\n",
       "    'aliases': ['Michael Grant Marshall']},\n",
       "   {'id': 'Q77085435',\n",
       "    'title': 'Q77085435',\n",
       "    'pageid': 76564803,\n",
       "    'display': {'label': {'value': 'Michael Grant Ignatieff',\n",
       "      'language': 'en'},\n",
       "     'description': {'value': 'university teacher at Leiden University',\n",
       "      'language': 'en'}},\n",
       "    'repository': 'wikidata',\n",
       "    'url': '//www.wikidata.org/wiki/Q77085435',\n",
       "    'concepturi': 'http://www.wikidata.org/entity/Q77085435',\n",
       "    'label': 'Michael Grant Ignatieff',\n",
       "    'description': 'university teacher at Leiden University',\n",
       "    'match': {'type': 'label',\n",
       "     'language': 'en',\n",
       "     'text': 'Michael Grant Ignatieff'}},\n",
       "   {'id': 'Q75948978',\n",
       "    'title': 'Q75948978',\n",
       "    'pageid': 75436105,\n",
       "    'display': {'label': {'value': 'Michael Grant Goodenough',\n",
       "      'language': 'en'},\n",
       "     'description': {'value': 'Royal Navy rear-admiral', 'language': 'en'}},\n",
       "    'repository': 'wikidata',\n",
       "    'url': '//www.wikidata.org/wiki/Q75948978',\n",
       "    'concepturi': 'http://www.wikidata.org/entity/Q75948978',\n",
       "    'label': 'Michael Grant Goodenough',\n",
       "    'description': 'Royal Navy rear-admiral',\n",
       "    'match': {'type': 'label',\n",
       "     'language': 'en',\n",
       "     'text': 'Michael Grant Goodenough'}},\n",
       "   {'id': 'Q76205398',\n",
       "    'title': 'Q76205398',\n",
       "    'pageid': 75694562,\n",
       "    'display': {'label': {'value': 'Michael Grant Fenner-Solomon',\n",
       "      'language': 'en'},\n",
       "     'description': {'value': 'Peerage person ID=602853', 'language': 'en'}},\n",
       "    'repository': 'wikidata',\n",
       "    'url': '//www.wikidata.org/wiki/Q76205398',\n",
       "    'concepturi': 'http://www.wikidata.org/entity/Q76205398',\n",
       "    'label': 'Michael Grant Fenner-Solomon',\n",
       "    'description': 'Peerage person ID=602853',\n",
       "    'match': {'type': 'label',\n",
       "     'language': 'en',\n",
       "     'text': 'Michael Grant Fenner-Solomon'}},\n",
       "   {'id': 'Q75481530',\n",
       "    'title': 'Q75481530',\n",
       "    'pageid': 74972482,\n",
       "    'display': {'label': {'value': 'Michael Grant Waters', 'language': 'en'},\n",
       "     'description': {'value': '(born 1956)', 'language': 'en'}},\n",
       "    'repository': 'wikidata',\n",
       "    'url': '//www.wikidata.org/wiki/Q75481530',\n",
       "    'concepturi': 'http://www.wikidata.org/entity/Q75481530',\n",
       "    'label': 'Michael Grant Waters',\n",
       "    'description': '(born 1956)',\n",
       "    'match': {'type': 'label',\n",
       "     'language': 'en',\n",
       "     'text': 'Michael Grant Waters'}},\n",
       "   {'id': 'Q63901069',\n",
       "    'title': 'Q63901069',\n",
       "    'pageid': 63610359,\n",
       "    'display': {'label': {'value': \"Michael Grant's Files (NAID 7385766)\",\n",
       "      'language': 'en'},\n",
       "     'description': {'value': \"series in the National Archives and Records Administration's holdings\",\n",
       "      'language': 'en'}},\n",
       "    'repository': 'wikidata',\n",
       "    'url': '//www.wikidata.org/wiki/Q63901069',\n",
       "    'concepturi': 'http://www.wikidata.org/entity/Q63901069',\n",
       "    'label': \"Michael Grant's Files (NAID 7385766)\",\n",
       "    'description': \"series in the National Archives and Records Administration's holdings\",\n",
       "    'match': {'type': 'label',\n",
       "     'language': 'en',\n",
       "     'text': \"Michael Grant's Files (NAID 7385766)\"}},\n",
       "   {'id': 'Q115184028',\n",
       "    'title': 'Q115184028',\n",
       "    'pageid': 109811762,\n",
       "    'display': {'label': {'value': 'Michael Grant White', 'language': 'en'},\n",
       "     'description': {'value': 'researcher at Department of Linguistics, Brigham Young University',\n",
       "      'language': 'en'}},\n",
       "    'repository': 'wikidata',\n",
       "    'url': '//www.wikidata.org/wiki/Q115184028',\n",
       "    'concepturi': 'http://www.wikidata.org/entity/Q115184028',\n",
       "    'label': 'Michael Grant White',\n",
       "    'description': 'researcher at Department of Linguistics, Brigham Young University',\n",
       "    'match': {'type': 'label',\n",
       "     'language': 'en',\n",
       "     'text': 'Michael Grant White'}},\n",
       "   {'id': 'Q75872849',\n",
       "    'title': 'Q75872849',\n",
       "    'pageid': 75360360,\n",
       "    'display': {'label': {'value': 'Michael Grant Watters', 'language': 'en'},\n",
       "     'description': {'value': '(born 1955)', 'language': 'en'}},\n",
       "    'repository': 'wikidata',\n",
       "    'url': '//www.wikidata.org/wiki/Q75872849',\n",
       "    'concepturi': 'http://www.wikidata.org/entity/Q75872849',\n",
       "    'label': 'Michael Grant Watters',\n",
       "    'description': '(born 1955)',\n",
       "    'match': {'type': 'label',\n",
       "     'language': 'en',\n",
       "     'text': 'Michael Grant Watters'}},\n",
       "   {'id': 'Q16196238',\n",
       "    'title': 'Q16196238',\n",
       "    'pageid': 17822660,\n",
       "    'display': {'label': {'value': 'Mike Rowbotham', 'language': 'en'},\n",
       "     'description': {'value': 'association football player',\n",
       "      'language': 'en'}},\n",
       "    'repository': 'wikidata',\n",
       "    'url': '//www.wikidata.org/wiki/Q16196238',\n",
       "    'concepturi': 'http://www.wikidata.org/entity/Q16196238',\n",
       "    'label': 'Mike Rowbotham',\n",
       "    'description': 'association football player',\n",
       "    'match': {'type': 'alias',\n",
       "     'language': 'en',\n",
       "     'text': 'Michael Grant Rowbotham'},\n",
       "    'aliases': ['Michael Grant Rowbotham']},\n",
       "   {'id': 'Q6846972',\n",
       "    'title': 'Q6846972',\n",
       "    'pageid': 6700096,\n",
       "    'display': {'label': {'value': 'Mike Gates', 'language': 'en'},\n",
       "     'description': {'value': 'Major League Baseball second baseman',\n",
       "      'language': 'en'}},\n",
       "    'repository': 'wikidata',\n",
       "    'url': '//www.wikidata.org/wiki/Q6846972',\n",
       "    'concepturi': 'http://www.wikidata.org/entity/Q6846972',\n",
       "    'label': 'Mike Gates',\n",
       "    'description': 'Major League Baseball second baseman',\n",
       "    'match': {'type': 'alias',\n",
       "     'language': 'en',\n",
       "     'text': 'Michael Grant Gates'},\n",
       "    'aliases': ['Michael Grant Gates']},\n",
       "   {'id': 'Q47541746',\n",
       "    'title': 'Q47541746',\n",
       "    'pageid': 48583667,\n",
       "    'display': {'label': {'value': 'Michael McKillop', 'language': 'en'},\n",
       "     'description': {'value': 'cricketer', 'language': 'en'}},\n",
       "    'repository': 'wikidata',\n",
       "    'url': '//www.wikidata.org/wiki/Q47541746',\n",
       "    'concepturi': 'http://www.wikidata.org/entity/Q47541746',\n",
       "    'label': 'Michael McKillop',\n",
       "    'description': 'cricketer',\n",
       "    'match': {'type': 'alias',\n",
       "     'language': 'en',\n",
       "     'text': 'Michael Grant McKillop'},\n",
       "    'aliases': ['Michael Grant McKillop']},\n",
       "   {'id': 'Q102380725',\n",
       "    'title': 'Q102380725',\n",
       "    'pageid': 99149013,\n",
       "    'display': {'label': {'value': 'Michael Grant McGuigan', 'language': 'en'},\n",
       "     'description': {'value': 'Ph.D. Heriot-Watt University 1991',\n",
       "      'language': 'en'}},\n",
       "    'repository': 'wikidata',\n",
       "    'url': '//www.wikidata.org/wiki/Q102380725',\n",
       "    'concepturi': 'http://www.wikidata.org/entity/Q102380725',\n",
       "    'label': 'Michael Grant McGuigan',\n",
       "    'description': 'Ph.D. Heriot-Watt University 1991',\n",
       "    'match': {'type': 'label',\n",
       "     'language': 'en',\n",
       "     'text': 'Michael Grant McGuigan'}},\n",
       "   {'id': 'Q6833592',\n",
       "    'title': 'Q6833592',\n",
       "    'pageid': 6685835,\n",
       "    'display': {'label': {'value': 'Michael Pote', 'language': 'en'},\n",
       "     'description': {'value': 'Cricket player', 'language': 'en'}},\n",
       "    'repository': 'wikidata',\n",
       "    'url': '//www.wikidata.org/wiki/Q6833592',\n",
       "    'concepturi': 'http://www.wikidata.org/entity/Q6833592',\n",
       "    'label': 'Michael Pote',\n",
       "    'description': 'Cricket player',\n",
       "    'match': {'type': 'alias', 'language': 'en', 'text': 'Michael Grant Pote'},\n",
       "    'aliases': ['Michael Grant Pote']},\n",
       "   {'id': 'Q107582653',\n",
       "    'title': 'Q107582653',\n",
       "    'pageid': 102869521,\n",
       "    'display': {'label': {'value': 'Michael Grant Vaillancourt',\n",
       "      'language': 'en'}},\n",
       "    'repository': 'wikidata',\n",
       "    'url': '//www.wikidata.org/wiki/Q107582653',\n",
       "    'concepturi': 'http://www.wikidata.org/entity/Q107582653',\n",
       "    'label': 'Michael Grant Vaillancourt',\n",
       "    'match': {'type': 'label',\n",
       "     'language': 'en',\n",
       "     'text': 'Michael Grant Vaillancourt'}},\n",
       "   {'id': 'Q59143428',\n",
       "    'title': 'Q59143428',\n",
       "    'pageid': 59050355,\n",
       "    'display': {'label': {'value': 'Michael Grant: The Etruscans. London: Weidenfeld & Nicolson, 1980. 332 pp., many unnumbered pls., 24 maps £17.50',\n",
       "      'language': 'en'}},\n",
       "    'repository': 'wikidata',\n",
       "    'url': '//www.wikidata.org/wiki/Q59143428',\n",
       "    'concepturi': 'http://www.wikidata.org/entity/Q59143428',\n",
       "    'label': 'Michael Grant: The Etruscans. London: Weidenfeld & Nicolson, 1980. 332 pp., many unnumbered pls., 24 maps £17.50',\n",
       "    'match': {'type': 'label',\n",
       "     'language': 'en',\n",
       "     'text': 'Michael Grant: The Etruscans. London: Weidenfeld & Nicolson, 1980. 332 pp., many unnumbered pls., 24 maps £17.50'}},\n",
       "   {'id': 'Q58892650',\n",
       "    'title': 'Q58892650',\n",
       "    'pageid': 58802733,\n",
       "    'display': {'label': {'value': 'Michael Grant: The Ancient Mediterranean. London: Weidenfeld and Nicolson, 1969. 394 pp., 71 figs., 19 maps. 55s',\n",
       "      'language': 'en'}},\n",
       "    'repository': 'wikidata',\n",
       "    'url': '//www.wikidata.org/wiki/Q58892650',\n",
       "    'concepturi': 'http://www.wikidata.org/entity/Q58892650',\n",
       "    'label': 'Michael Grant: The Ancient Mediterranean. London: Weidenfeld and Nicolson, 1969. 394 pp., 71 figs., 19 maps. 55s',\n",
       "    'match': {'type': 'label',\n",
       "     'language': 'en',\n",
       "     'text': 'Michael Grant: The Ancient Mediterranean. London: Weidenfeld and Nicolson, 1969. 394 pp., 71 figs., 19 maps. 55s'}}],\n",
       "  'search-continue': 50,\n",
       "  'success': 1}]"
      ]
     },
     "execution_count": 30,
     "metadata": {},
     "output_type": "execute_result"
    }
   ],
   "source": [
    "wikidata_lookup(\"Michael Grant\")"
   ]
  },
  {
   "cell_type": "code",
   "execution_count": null,
   "metadata": {},
   "outputs": [],
   "source": [
    "entity_wikidata_candidates = []"
   ]
  },
  {
   "cell_type": "code",
   "execution_count": null,
   "metadata": {},
   "outputs": [],
   "source": [
    "if entity_wikidata_candidates is not None:\n",
    "    i = len(entity_wikidata_candidates)\n",
    "else:\n",
    "    entity_wikidata_candidates = []\n",
    "    i = 0\n",
    "pool = Pool(processes=16)\n",
    "while i < len(entity_mentions_surface):\n",
    "    print(i)\n",
    "    tmp = list(tqdm(pool.imap(wikidata_lookup, entity_mentions_surface[i : i + 10000], chunksize=150), total=10000))\n",
    "    entity_wikidata_candidates.extend(tmp)\n",
    "    i += 10000\n",
    "pool.close()"
   ]
  },
  {
   "cell_type": "code",
   "execution_count": null,
   "metadata": {},
   "outputs": [],
   "source": [
    "len(entity_wikidata_candidates), len(entity_mentions_surface)"
   ]
  },
  {
   "cell_type": "code",
   "execution_count": null,
   "metadata": {},
   "outputs": [],
   "source": [
    "import re\n",
    "\n",
    "entity_mentions_surface_normed_0 = [\n",
    "    re.sub(\"^\\W|\\W$\", \"\", x) for x in entity_mentions_surface if re.sub(\"^\\W|\\W$\", \"\", x) != x\n",
    "]\n",
    "entity_wikidata_candidates_normed_0 = []\n",
    "i = 0\n",
    "pool = Pool(processes=16)\n",
    "while i < len(entity_mentions_surface_normed_0):\n",
    "    print(i)\n",
    "    tmp = list(\n",
    "        tqdm(pool.imap(wikidata_lookup, entity_mentions_surface_normed_0[i : i + 10000], chunksize=300), total=10000)\n",
    "    )\n",
    "    entity_wikidata_candidates_normed_0.extend(tmp)\n",
    "    i += 10000\n",
    "pool.close()"
   ]
  },
  {
   "cell_type": "code",
   "execution_count": null,
   "metadata": {},
   "outputs": [],
   "source": [
    "missing_wikidata_candidates = []\n",
    "i = 0\n",
    "pool = Pool(processes=16)\n",
    "while i < len(missing_mentions):\n",
    "    print(i)\n",
    "    tmp = list(tqdm(pool.imap(wikidata_lookup, missing_mentions[i : i + 10000], chunksize=300), total=10000))\n",
    "    missing_wikidata_candidates.extend(tmp)\n",
    "    i += 10000\n",
    "pool.close()"
   ]
  },
  {
   "cell_type": "code",
   "execution_count": null,
   "metadata": {},
   "outputs": [],
   "source": [
    "len(entity_mentions_surface_normed_0) / len(entity_mentions_surface)"
   ]
  },
  {
   "cell_type": "code",
   "execution_count": null,
   "metadata": {},
   "outputs": [],
   "source": [
    "entity_wikidata_candidates_normed_0_dict = {\n",
    "    x[0]: x[1] for x in entity_wikidata_candidates_normed_0 if (isinstance(x[1], list) and len(x[1]) != 0)\n",
    "}"
   ]
  },
  {
   "cell_type": "code",
   "execution_count": null,
   "metadata": {},
   "outputs": [],
   "source": [
    "for i, x in enumerate(entity_wikidata_candidates):\n",
    "    processed = re.sub(\"^\\W|\\W$\", \"\", x[0])\n",
    "    if processed != x[0] and processed in entity_wikidata_candidates_normed_0_dict:\n",
    "        entity_wikidata_candidates[i][1] += entity_wikidata_candidates_normed_0_dict[processed]"
   ]
  },
  {
   "cell_type": "code",
   "execution_count": null,
   "metadata": {},
   "outputs": [],
   "source": [
    "entity_wikidata_target = (\n",
    "    spark.createDataFrame(\n",
    "        entity_mentions.map(\n",
    "            lambda x: Row(\n",
    "                id=x[\"_id\"][\"$oid\"],\n",
    "                mention=x[\"surfaceForm\"],\n",
    "                wikipedia_id=x[\"goldAnnotation\"][\"titleId\"],\n",
    "                cell_id=\"%d_%d_%d_%d\" % (x[\"pgId\"], x[\"tableId\"], x[\"cellRow\"], x[\"cellCol\"]),\n",
    "            )\n",
    "        )\n",
    "    )\n",
    "    .join(wikipedia_wikidata_mapping, \"wikipedia_id\", \"inner\")\n",
    "    .join(wiki_mid_mapping, \"wikipedia_id\", \"inner\")\n",
    ")"
   ]
  },
  {
   "cell_type": "code",
   "execution_count": null,
   "metadata": {},
   "outputs": [],
   "source": [
    "entity_wikidata_target = wikipedia_gs_entity_mentions.join(wikipedia_wikidata_mapping, \"wikipedia_title\", \"left\").join(\n",
    "    wiki_mid_mapping, \"wikipedia_id\", \"left\"\n",
    ")"
   ]
  },
  {
   "cell_type": "code",
   "execution_count": null,
   "metadata": {},
   "outputs": [],
   "source": [
    "entity_wikidata_target.show()"
   ]
  },
  {
   "cell_type": "code",
   "execution_count": null,
   "metadata": {},
   "outputs": [],
   "source": [
    "import os\n",
    "\n",
    "\n",
    "def load_entity_vocab(data_dir, ignore_bad_title=True, min_ent_count=1):\n",
    "    entity_vocab = {}\n",
    "    bad_title = 0\n",
    "    few_entity = 0\n",
    "    with open(os.path.join(data_dir, \"entity_vocab.txt\"), \"r\", encoding=\"utf-8\") as f:\n",
    "        for line in f:\n",
    "            _, entity_id, entity_title, entity_mid, count = line.strip().split(\"\\t\")\n",
    "            if ignore_bad_title and entity_title == \"\":\n",
    "                bad_title += 1\n",
    "            elif int(count) < min_ent_count:\n",
    "                few_entity += 1\n",
    "            else:\n",
    "                entity_vocab[len(entity_vocab)] = {\n",
    "                    \"wiki_id\": int(entity_id),\n",
    "                    \"wiki_title\": entity_title,\n",
    "                    \"mid\": entity_mid,\n",
    "                    \"count\": int(count),\n",
    "                }\n",
    "    print(\n",
    "        \"total number of entity: %d\\nremove because of empty title: %d\\nremove because count<%d: %d\"\n",
    "        % (len(entity_vocab), bad_title, min_ent_count, few_entity)\n",
    "    )\n",
    "    return entity_vocab\n",
    "\n",
    "\n",
    "data_dir = \"/srv/samba/group_workspace_1/deng.595/workspace/table_transformer/data/wikitable_entity/v2/\"\n",
    "entity_vocab = load_entity_vocab(data_dir, True, 2)\n",
    "train_all_entities = set([x[\"mid\"] for _, x in entity_vocab.items() if x[\"mid\"] != \"\"])\n",
    "train_all_entities_wiki_id = set([x[\"wiki_id\"] for _, x in entity_vocab.items()])"
   ]
  },
  {
   "cell_type": "code",
   "execution_count": null,
   "metadata": {},
   "outputs": [],
   "source": [
    "# with open('wikipedia_gs_wikidata_candidates.json', \"w\", encoding='utf8') as f:\n",
    "#     json.dump(entity_wikidata_candidates, f)\n",
    "with open(\"~/turl-data/wikipedia_gs_wikidata_candidates.json\", \"r\", encoding=\"utf8\") as f:\n",
    "    entity_wikidata_candidates = json.load(f)"
   ]
  },
  {
   "cell_type": "code",
   "execution_count": 11,
   "metadata": {},
   "outputs": [],
   "source": [
    "# with open('wikidata_candidates.json', \"w\", encoding='utf8') as f:\n",
    "#     json.dump(entity_wikidata_candidates, f)\n",
    "with open(\"~/turl-data/wikidata_candidates.json\", \"r\", encoding=\"utf8\") as f:\n",
    "    entity_wikidata_candidates = json.load(f)"
   ]
  },
  {
   "cell_type": "code",
   "execution_count": null,
   "metadata": {},
   "outputs": [],
   "source": [
    "entity_wikidata_candidates += missing_wikidata_candidates"
   ]
  },
  {
   "cell_type": "code",
   "execution_count": 13,
   "metadata": {},
   "outputs": [
    {
     "name": "stderr",
     "output_type": "stream",
     "text": [
      "24/02/14 13:34:08 WARN TaskSetManager: Stage 5 contains a task of very large size (14832 KiB). The maximum recommended task size is 1000 KiB.\n"
     ]
    }
   ],
   "source": [
    "entity_wikidata_candidates_df = spark.createDataFrame(\n",
    "    sc.parallelize(entity_wikidata_candidates).map(\n",
    "        lambda x: Row(mention=x[0], candidates=x[1] if isinstance(x[1], list) else [])\n",
    "    )\n",
    ")"
   ]
  },
  {
   "cell_type": "code",
   "execution_count": 14,
   "metadata": {},
   "outputs": [
    {
     "ename": "NameError",
     "evalue": "name 'wikipedia_gs_entity_mentions' is not defined",
     "output_type": "error",
     "traceback": [
      "\u001b[0;31m---------------------------------------------------------------------------\u001b[0m",
      "\u001b[0;31mNameError\u001b[0m                                 Traceback (most recent call last)",
      "Cell \u001b[0;32mIn[14], line 1\u001b[0m\n\u001b[0;32m----> 1\u001b[0m wikipedia_gs_entity_mentions_with_candidate \u001b[38;5;241m=\u001b[39m \u001b[43mwikipedia_gs_entity_mentions\u001b[49m\u001b[38;5;241m.\u001b[39mjoin(\n\u001b[1;32m      2\u001b[0m     entity_wikidata_candidates_df, \u001b[38;5;124m\"\u001b[39m\u001b[38;5;124mmention\u001b[39m\u001b[38;5;124m\"\u001b[39m, \u001b[38;5;124m\"\u001b[39m\u001b[38;5;124mleft\u001b[39m\u001b[38;5;124m\"\u001b[39m\n\u001b[1;32m      3\u001b[0m )\u001b[38;5;241m.\u001b[39mjoin(wikipedia_wikidata_mapping, \u001b[38;5;124m\"\u001b[39m\u001b[38;5;124mwikipedia_title\u001b[39m\u001b[38;5;124m\"\u001b[39m, \u001b[38;5;124m\"\u001b[39m\u001b[38;5;124mleft\u001b[39m\u001b[38;5;124m\"\u001b[39m)\n",
      "\u001b[0;31mNameError\u001b[0m: name 'wikipedia_gs_entity_mentions' is not defined"
     ]
    }
   ],
   "source": [
    "wikipedia_gs_entity_mentions_with_candidate = wikipedia_gs_entity_mentions.join(\n",
    "    entity_wikidata_candidates_df, \"mention\", \"left\"\n",
    ").join(wikipedia_wikidata_mapping, \"wikipedia_title\", \"left\")"
   ]
  },
  {
   "cell_type": "code",
   "execution_count": 15,
   "metadata": {},
   "outputs": [],
   "source": [
    "train_mentions_with_candidate = train_mentions.join(entity_wikidata_candidates_df, \"mention\", \"left\").join(\n",
    "    wikipedia_wikidata_mapping, \"wikipedia_title\", \"inner\"\n",
    ")\n",
    "val_mentions_with_candidate = val_mentions.join(entity_wikidata_candidates_df, \"mention\", \"left\").join(\n",
    "    wikipedia_wikidata_mapping, \"wikipedia_title\", \"inner\"\n",
    ")\n",
    "test_mentions_with_candidate = test_mentions.join(entity_wikidata_candidates_df, \"mention\", \"left\").join(\n",
    "    wikipedia_wikidata_mapping, \"wikipedia_title\", \"inner\"\n",
    ")"
   ]
  },
  {
   "cell_type": "code",
   "execution_count": null,
   "metadata": {},
   "outputs": [],
   "source": [
    "val_mentions_with_candidate.show()"
   ]
  },
  {
   "cell_type": "code",
   "execution_count": null,
   "metadata": {},
   "outputs": [],
   "source": [
    "missing_mentions = val_mentions_with_candidate.where(F.isnull(\"candidates\")).rdd.map(lambda x: x[\"mention\"]).collect()\n",
    "missing_mentions += val_mentions_with_candidate.where(F.isnull(\"candidates\")).rdd.map(lambda x: x[\"mention\"]).collect()\n",
    "missing_mentions = list(set(missing_mentions))\n",
    "print(len(missing_mentions))"
   ]
  },
  {
   "cell_type": "code",
   "execution_count": null,
   "metadata": {},
   "outputs": [],
   "source": [
    "train_mentions_with_candidate.dropDuplicates([\"mention\", \"wikidata_id\"]).where(F.size(\"candidates\") != 0).count()"
   ]
  },
  {
   "cell_type": "code",
   "execution_count": null,
   "metadata": {},
   "outputs": [],
   "source": [
    "entity_wikidata_target_candidate = entity_wikidata_target.join(entity_wikidata_candidates_df, \"mention\", \"inner\")"
   ]
  },
  {
   "cell_type": "code",
   "execution_count": null,
   "metadata": {},
   "outputs": [],
   "source": [
    "print(train_mentions_with_candidate.where(F.size(\"candidates\") != 0).count())\n",
    "print(\n",
    "    train_mentions_with_candidate.where(F.size(\"candidates\") != 0)\n",
    "    .join(dbpedia_types.select(\"wikipedia_title\").dropDuplicates(), \"wikipedia_title\", \"inner\")\n",
    "    .count()\n",
    ")\n",
    "print(\n",
    "    train_mentions_with_candidate.where(F.size(\"candidates\") != 0)\n",
    "    .join(dbpedia_abstract.select(\"wikipedia_title\").dropDuplicates(), \"wikipedia_title\", \"inner\")\n",
    "    .count()\n",
    ")"
   ]
  },
  {
   "cell_type": "code",
   "execution_count": null,
   "metadata": {},
   "outputs": [],
   "source": [
    "train_mentions_with_candidate.show()"
   ]
  },
  {
   "cell_type": "code",
   "execution_count": null,
   "metadata": {},
   "outputs": [],
   "source": [
    "def build_for_own(x):\n",
    "    all_processed = []\n",
    "    table_id = x[0]\n",
    "    pgTitle = x[1][1][0]\n",
    "    secTitle = x[1][1][1]\n",
    "    caption = x[1][1][2]\n",
    "    headers = x[1][1][3]\n",
    "    all_entities = x[1][0]\n",
    "    while len(all_entities) > 0:\n",
    "        entities = [[[z[0], z[1]], z[2]] for z in all_entities[:50]]\n",
    "        candidate_entities = {}\n",
    "        for z in all_entities[:50]:\n",
    "            for cand in z[4]:\n",
    "                if cand[0] not in candidate_entities:\n",
    "                    candidate_entities[cand[0]] = [\n",
    "                        len(candidate_entities),\n",
    "                        cand[1],\n",
    "                        cand[2],\n",
    "                        dbpedia_types.get(cand[0], []),\n",
    "                    ]\n",
    "        labels = [candidate_entities[z[3]][0] for z in all_entities[:50]]\n",
    "        cand_for_each = [[candidate_entities[cand[0]][0] for cand in z[4]] for z in all_entities[:50]]\n",
    "        tmp_candidate_entities = [0] * len(candidate_entities)\n",
    "        for k, v in candidate_entities.items():\n",
    "            tmp_candidate_entities[v[0]] = v[1:]\n",
    "        all_processed.append(\n",
    "            [table_id, pgTitle, secTitle, caption, headers, entities, tmp_candidate_entities, labels, cand_for_each]\n",
    "        )\n",
    "        all_entities = all_entities[50:]\n",
    "    return all_processed"
   ]
  },
  {
   "cell_type": "code",
   "execution_count": null,
   "metadata": {},
   "outputs": [],
   "source": [
    "def build_for_own_with_wikidata_id(x):\n",
    "    all_processed = []\n",
    "    table_id = x[0]\n",
    "    pgTitle = x[1][1][0]\n",
    "    secTitle = x[1][1][1]\n",
    "    caption = x[1][1][2]\n",
    "    headers = x[1][1][3]\n",
    "    all_entities = x[1][0]\n",
    "    while len(all_entities) > 0:\n",
    "        entities = [[[z[0], z[1]], z[2]] for z in all_entities[:50]]\n",
    "        candidate_entities = {}\n",
    "        for z in all_entities[:50]:\n",
    "            for cand in z[4]:\n",
    "                if cand[0] not in candidate_entities:\n",
    "                    candidate_entities[cand[0]] = [\n",
    "                        len(candidate_entities),\n",
    "                        cand[1],\n",
    "                        cand[2],\n",
    "                        dbpedia_types.get(cand[0], []),\n",
    "                        cand[0],\n",
    "                    ]\n",
    "        labels = [candidate_entities[z[3]][0] for z in all_entities[:50]]\n",
    "        cand_for_each = [[candidate_entities[cand[0]][0] for cand in z[4]] for z in all_entities[:50]]\n",
    "        tmp_candidate_entities = [0] * len(candidate_entities)\n",
    "        for k, v in candidate_entities.items():\n",
    "            tmp_candidate_entities[v[0]] = v[1:]\n",
    "        all_processed.append(\n",
    "            [table_id, pgTitle, secTitle, caption, headers, entities, tmp_candidate_entities, labels, cand_for_each]\n",
    "        )\n",
    "        all_entities = all_entities[50:]\n",
    "    return all_processed"
   ]
  },
  {
   "cell_type": "code",
   "execution_count": null,
   "metadata": {},
   "outputs": [],
   "source": [
    "# only output examples with recall>0 for reranking. Including empty candidates or all wrong candidates\n",
    "train_mentions_local = (\n",
    "    train_mentions_with_candidate.select(\"table_id\", \"wikidata_id\", \"candidates\", \"i\", \"j\", \"mention\")\n",
    "    .dropDuplicates([\"mention\", \"wikidata_id\"])\n",
    "    .rdd.map(lambda x: [x[\"table_id\"], x[\"i\"], x[\"j\"], x[\"mention\"], x[\"wikidata_id\"], x[\"candidates\"]])\n",
    "    .filter(lambda x: x[4] in [z[0] for z in x[5]])\n",
    "    .map(lambda x: (x[0], [x[1:]]))\n",
    "    .reduceByKey(add)\n",
    "    .join(\n",
    "        train_tables.map(\n",
    "            lambda x: (x[\"_id\"], [x[\"pgTitle\"], x[\"sectionTitle\"], x[\"tableCaption\"], x[\"processed_tableHeaders\"]])\n",
    "        )\n",
    "    )\n",
    "    .flatMap(build_for_own)\n",
    "    .collect()\n",
    ")"
   ]
  },
  {
   "cell_type": "code",
   "execution_count": null,
   "metadata": {},
   "outputs": [],
   "source": [
    "val_mentions_local = (\n",
    "    val_mentions_with_candidate.select(\"table_id\", \"wikidata_id\", \"candidates\", \"i\", \"j\", \"mention\")\n",
    "    .dropDuplicates([\"mention\", \"wikidata_id\"])\n",
    "    .where(~F.isnull(\"candidates\"))\n",
    "    .rdd.map(lambda x: [x[\"table_id\"], x[\"i\"], x[\"j\"], x[\"mention\"], x[\"wikidata_id\"], x[\"candidates\"]])\n",
    "    .filter(lambda x: x[4] in [z[0] for z in x[5]])\n",
    "    .map(lambda x: (x[0], [x[1:]]))\n",
    "    .reduceByKey(add)\n",
    "    .join(\n",
    "        val_tables.map(\n",
    "            lambda x: (x[\"_id\"], [x[\"pgTitle\"], x[\"sectionTitle\"], x[\"tableCaption\"], x[\"processed_tableHeaders\"]])\n",
    "        )\n",
    "    )\n",
    "    .flatMap(build_for_own)\n",
    "    .collect()\n",
    ")"
   ]
  },
  {
   "cell_type": "code",
   "execution_count": null,
   "metadata": {},
   "outputs": [],
   "source": [
    "# 08/20\n",
    "test_mentions_local = (\n",
    "    test_mentions_with_candidate.select(\"table_id\", \"wikidata_id\", \"candidates\", \"i\", \"j\", \"mention\")\n",
    "    .where(~F.isnull(\"candidates\"))\n",
    "    .rdd.map(lambda x: [x[\"table_id\"], x[\"i\"], x[\"j\"], x[\"mention\"], x[\"wikidata_id\"], x[\"candidates\"]])\n",
    "    .filter(lambda x: x[4] in [z[0] for z in x[5]])\n",
    "    .map(lambda x: (x[0], [x[1:]]))\n",
    "    .reduceByKey(add)\n",
    "    .join(\n",
    "        test_tables.map(\n",
    "            lambda x: (x[\"_id\"], [x[\"pgTitle\"], x[\"sectionTitle\"], x[\"tableCaption\"], x[\"processed_tableHeaders\"]])\n",
    "        )\n",
    "    )\n",
    "    .flatMap(build_for_own)\n",
    "    .collect()\n",
    ")\n",
    "print(len(test_mentions_local))\n",
    "test_mentions_local_with_wikidata_id = (\n",
    "    test_mentions_with_candidate.select(\"table_id\", \"wikidata_id\", \"candidates\", \"i\", \"j\", \"mention\")\n",
    "    .where(~F.isnull(\"candidates\"))\n",
    "    .rdd.map(lambda x: [x[\"table_id\"], x[\"i\"], x[\"j\"], x[\"mention\"], x[\"wikidata_id\"], x[\"candidates\"]])\n",
    "    .filter(lambda x: x[4] in [z[0] for z in x[5]])\n",
    "    .map(lambda x: (x[0], [x[1:]]))\n",
    "    .reduceByKey(add)\n",
    "    .join(\n",
    "        test_tables.map(\n",
    "            lambda x: (x[\"_id\"], [x[\"pgTitle\"], x[\"sectionTitle\"], x[\"tableCaption\"], x[\"processed_tableHeaders\"]])\n",
    "        )\n",
    "    )\n",
    "    .flatMap(build_for_own_with_wikidata_id)\n",
    "    .collect()\n",
    ")\n",
    "print(len(test_mentions_local_with_wikidata_id))"
   ]
  },
  {
   "cell_type": "code",
   "execution_count": null,
   "metadata": {},
   "outputs": [],
   "source": [
    "print(sc.parallelize(test_mentions_local).map(lambda x: x[0]).distinct().count())\n",
    "print(sc.parallelize(test_mentions_local).map(lambda x: len(x[5])).sum())"
   ]
  },
  {
   "cell_type": "code",
   "execution_count": null,
   "metadata": {},
   "outputs": [],
   "source": [
    "print(len(train_mentions_local))\n",
    "print(len(val_mentions_local))"
   ]
  },
  {
   "cell_type": "code",
   "execution_count": null,
   "metadata": {},
   "outputs": [],
   "source": [
    "with open(data_dir + \"train.table_entity_linking.json\", \"w\") as f:\n",
    "    json.dump(train_mentions_local, f)\n",
    "with open(data_dir + \"dev.table_entity_linking.json\", \"w\") as f:\n",
    "    json.dump(val_mentions_local, f)"
   ]
  },
  {
   "cell_type": "code",
   "execution_count": null,
   "metadata": {},
   "outputs": [],
   "source": [
    "with open(data_dir + \"test_own.table_entity_linking.json\", \"w\") as f:\n",
    "    json.dump(test_mentions_local, f)"
   ]
  },
  {
   "cell_type": "code",
   "execution_count": null,
   "metadata": {},
   "outputs": [],
   "source": [
    "with open(data_dir + \"test_own_0820.table_entity_linking.with_wikidata_id.json\", \"w\") as f:\n",
    "    json.dump(test_mentions_local_with_wikidata_id, f)\n",
    "with open(data_dir + \"test_own_0820.table_entity_linking.json\", \"w\") as f:\n",
    "    json.dump(test_mentions_local, f)"
   ]
  },
  {
   "cell_type": "code",
   "execution_count": null,
   "metadata": {},
   "outputs": [],
   "source": [
    "with open(data_dir + \"train.table_entity_linking.json\", \"r\") as f:\n",
    "    train_mentions_local = sc.parallelize(json.load(f))"
   ]
  },
  {
   "cell_type": "code",
   "execution_count": 19,
   "metadata": {},
   "outputs": [],
   "source": [
    "with open(data_dir + \"test_own.table_entity_linking.json\", \"r\") as f:\n",
    "    test_mentions_local = json.load(f)"
   ]
  },
  {
   "cell_type": "code",
   "execution_count": null,
   "metadata": {},
   "outputs": [],
   "source": [
    "test_mentions_local[0]"
   ]
  },
  {
   "cell_type": "code",
   "execution_count": null,
   "metadata": {},
   "outputs": [],
   "source": []
  },
  {
   "cell_type": "code",
   "execution_count": null,
   "metadata": {},
   "outputs": [],
   "source": [
    "test_mentions_local = (\n",
    "    wikipedia_gs_entity_mentions_with_candidate.select(\"tableId\", \"wikidata_id\", \"candidates\", \"i\", \"j\", \"mention\")\n",
    "    .where(~F.isnull(\"candidates\"))\n",
    "    .rdd.map(lambda x: [x[\"tableId\"], x[\"i\"], x[\"j\"], x[\"mention\"], x[\"wikidata_id\"], x[\"candidates\"]])\n",
    "    .filter(lambda x: x[4] in [z[0] for z in x[5]])\n",
    "    .map(lambda x: (x[0], [x[1:]]))\n",
    "    .reduceByKey(add)\n",
    "    .join(\n",
    "        wikipedia_gs_tables.map(\n",
    "            lambda x: (x[\"tableId\"], [x[\"pgTitle\"], x[\"sectionTitle\"], x[\"tableCaption\"], x[\"processed_tableHeaders\"]])\n",
    "        )\n",
    "    )\n",
    "    .flatMap(build_for_own)\n",
    "    .collect()\n",
    ")"
   ]
  },
  {
   "cell_type": "code",
   "execution_count": null,
   "metadata": {},
   "outputs": [],
   "source": [
    "data_dir = \"/srv/samba/group_workspace_1/deng.595/workspace/table_transformer/data/wikitable_entity/v2/\"\n",
    "with open(data_dir + \"test.table_entity_linking.json\", \"w\") as f:\n",
    "    json.dump(test_mentions_local, f)"
   ]
  },
  {
   "cell_type": "code",
   "execution_count": 21,
   "metadata": {},
   "outputs": [],
   "source": [
    "def get_labels_and_candidate(tables):\n",
    "    results = []\n",
    "    for i, entity in enumerate(tables[5]):\n",
    "        results.append(((tables[0], entity[0][0], entity[0][1]), [tables[7][i], tables[8][i]]))\n",
    "    return results"
   ]
  },
  {
   "cell_type": "markdown",
   "metadata": {},
   "source": [
    "# Evaluation with dumped model results"
   ]
  },
  {
   "cell_type": "code",
   "execution_count": null,
   "metadata": {},
   "outputs": [],
   "source": [
    "import pickle\n",
    "\n",
    "with open(\n",
    "    \"/srv/samba/group_workspace_1/deng.595/workspace/table_transformer/data/wikitable_entity/v2/test_entity_linking_results_2.pkl\",\n",
    "    \"rb\",\n",
    ") as f:\n",
    "    gs_test_results = pickle.load(f)"
   ]
  },
  {
   "cell_type": "code",
   "execution_count": null,
   "metadata": {},
   "outputs": [],
   "source": [
    "import pickle\n",
    "\n",
    "with open(\n",
    "    \"/srv/samba/group_workspace_1/deng.595/workspace/table_transformer/data/wikitable_entity/v2/test_own_entity_linking_results_2.pkl\",\n",
    "    \"rb\",\n",
    ") as f:\n",
    "    test_results = pickle.load(f)"
   ]
  },
  {
   "cell_type": "code",
   "execution_count": null,
   "metadata": {},
   "outputs": [],
   "source": [
    "import pickle\n",
    "\n",
    "with open(\n",
    "    \"/srv/samba/group_workspace_1/deng.595/workspace/table_transformer/data/wikitable_entity/v2/test_own_0820_entity_linking_results_0.pkl\",\n",
    "    \"rb\",\n",
    ") as f:\n",
    "    test_results = pickle.load(f)"
   ]
  },
  {
   "cell_type": "code",
   "execution_count": null,
   "metadata": {},
   "outputs": [],
   "source": [
    "import pickle\n",
    "\n",
    "with open(\n",
    "    \"~/projects/TURL/output/logs/turl/fine-tuning-el/2024-02-08_13-14-19/version_0/test/test_own_entity_linking_results.pkl\",\n",
    "    \"rb\",\n",
    ") as f:\n",
    "    test_results = pickle.load(f)"
   ]
  },
  {
   "cell_type": "code",
   "execution_count": 16,
   "metadata": {},
   "outputs": [],
   "source": [
    "# ~/projects/TURL/output/logs/turl/fine-tuning-el/2024-02-14_11-01-08/version_0/test/test_own_entity_linking_results_dedup.pkl\n",
    "\n",
    "import pickle\n",
    "\n",
    "with open(\n",
    "    \"~/projects/TURL/output/logs/turl/fine-tuning-el/2024-02-14_11-01-08/version_0/test/test_own_entity_linking_results_dedup.pkl\",\n",
    "    \"rb\",\n",
    ") as f:\n",
    "    test_results = pickle.load(f)"
   ]
  },
  {
   "cell_type": "code",
   "execution_count": 17,
   "metadata": {},
   "outputs": [],
   "source": [
    "def get_tp(result):\n",
    "    result = result[1]\n",
    "    for x in result[1]:\n",
    "        if x in result[0][1]:\n",
    "            if x == result[0][0]:\n",
    "                return 1\n",
    "            else:\n",
    "                return 0\n",
    "    return 0"
   ]
  },
  {
   "cell_type": "code",
   "execution_count": 22,
   "metadata": {},
   "outputs": [
    {
     "name": "stderr",
     "output_type": "stream",
     "text": [
      "24/02/14 13:35:44 WARN TaskSetManager: Stage 6 contains a task of very large size (2514 KiB). The maximum recommended task size is 1000 KiB.\n",
      "                                                                                \r"
     ]
    }
   ],
   "source": [
    "our_tp = (\n",
    "    sc.parallelize(test_mentions_local)\n",
    "    .flatMap(get_labels_and_candidate)\n",
    "    .join(sc.parallelize(test_results).flatMap(lambda x: [((x[0], z[0], z[1]), x[2][i]) for i, z in enumerate(x[1])]))\n",
    "    .map(get_tp)\n",
    "    .sum()\n",
    ")"
   ]
  },
  {
   "cell_type": "code",
   "execution_count": null,
   "metadata": {},
   "outputs": [],
   "source": [
    "mentioned_dbpedia_types = (\n",
    "    sc.parallelize(train_mentions_local).map(lambda x: set([z for y in x[6] for z in y[2]])).reduce(lambda a, b: a | b)\n",
    ")"
   ]
  },
  {
   "cell_type": "code",
   "execution_count": null,
   "metadata": {},
   "outputs": [],
   "source": [
    "with open(data_dir + \"dbpedia_type_vocab.txt\", \"w\") as f:\n",
    "    f.write(\"{}\\t{}\\n\".format(0, \"[PAD]\"))\n",
    "    for i, t in enumerate(mentioned_dbpedia_types):\n",
    "        f.write(\"{}\\t{}\\n\".format(i + 1, t))"
   ]
  },
  {
   "cell_type": "code",
   "execution_count": null,
   "metadata": {},
   "outputs": [],
   "source": [
    "wrong_mentions = spark.createDataFrame(\n",
    "    entity_wikidata_target_candidate.rdd.filter(\n",
    "        lambda x: x[\"wikidata_id\"] not in [z[0] for z in x[\"candidates\"][:1]]\n",
    "        and x[\"wikidata_id\"] in [z[0] for z in x[\"candidates\"][:]]\n",
    "    )\n",
    ")"
   ]
  },
  {
   "cell_type": "code",
   "execution_count": null,
   "metadata": {},
   "outputs": [],
   "source": [
    "print(wrong_mentions.where(\"wikipedia_id is not null\").distinct().count())\n",
    "entities = set(\n",
    "    wrong_mentions.where(\"wikipedia_id is not null\").rdd.map(lambda x: x[\"wikipedia_id\"]).distinct().collect()\n",
    ")\n",
    "print(len(entities))\n",
    "print(len(entities & train_all_entities_wiki_id))"
   ]
  },
  {
   "cell_type": "code",
   "execution_count": null,
   "metadata": {},
   "outputs": [],
   "source": [
    "print(wrong_mentions.where(F.size(\"candidates\") != 0).count())\n",
    "print(\n",
    "    wrong_mentions.where(F.size(\"candidates\") != 0)\n",
    "    .join(dbpedia_types.select(\"wikipedia_title\").dropDuplicates(), \"wikipedia_title\", \"inner\")\n",
    "    .count()\n",
    ")\n",
    "print(\n",
    "    wrong_mentions.where(F.size(\"candidates\") != 0)\n",
    "    .join(dbpedia_abstract.select(\"wikipedia_title\").dropDuplicates(), \"wikipedia_title\", \"inner\")\n",
    "    .count()\n",
    ")"
   ]
  },
  {
   "cell_type": "code",
   "execution_count": null,
   "metadata": {},
   "outputs": [],
   "source": [
    "wrong_mentions.where(F.size(\"candidates\") != 0).join(dbpedia_types, \"wikipedia_title\", \"left\").where(\n",
    "    \"type is null\"\n",
    ").show()"
   ]
  },
  {
   "cell_type": "code",
   "execution_count": null,
   "metadata": {},
   "outputs": [],
   "source": [
    "def get_index(x, cands):\n",
    "    for i, z in enumerate(cands):\n",
    "        if x == z:\n",
    "            return i\n",
    "    return 999\n",
    "\n",
    "\n",
    "best_recall = (\n",
    "    val_mentions_with_candidate.select(\"table_id\", \"wikidata_id\", \"candidates\", \"i\", \"j\", \"mention\")\n",
    "    .dropDuplicates([\"mention\", \"wikidata_id\"])\n",
    "    .where(~F.isnull(\"candidates\"))\n",
    "    .rdd.filter(lambda x: len(x[\"candidates\"]) != 0)\n",
    "    .map(lambda x: get_index(x[\"wikidata_id\"], [z[0] for z in x[\"candidates\"]]))\n",
    "    .collect()\n",
    ")"
   ]
  },
  {
   "cell_type": "code",
   "execution_count": null,
   "metadata": {},
   "outputs": [],
   "source": [
    "numpy_describe(best_recall)"
   ]
  },
  {
   "cell_type": "code",
   "execution_count": null,
   "metadata": {},
   "outputs": [],
   "source": [
    "numpy_describe(best_recall)"
   ]
  },
  {
   "cell_type": "code",
   "execution_count": null,
   "metadata": {},
   "outputs": [],
   "source": [
    "for i in range(60, 80):\n",
    "    print(i, np.percentile(best_recall, i))"
   ]
  },
  {
   "cell_type": "code",
   "execution_count": null,
   "metadata": {},
   "outputs": [],
   "source": [
    "wikipedia_gs_entity_mentions.count()"
   ]
  },
  {
   "cell_type": "code",
   "execution_count": null,
   "metadata": {},
   "outputs": [],
   "source": [
    "gs_wikidata_P"
   ]
  },
  {
   "cell_type": "code",
   "execution_count": null,
   "metadata": {},
   "outputs": [],
   "source": [
    "gs_wikidata_TP"
   ]
  },
  {
   "cell_type": "code",
   "execution_count": null,
   "metadata": {},
   "outputs": [],
   "source": [
    "our_tp"
   ]
  },
  {
   "cell_type": "code",
   "execution_count": null,
   "metadata": {},
   "outputs": [],
   "source": [
    "test_mentions_with_candidate.count()"
   ]
  },
  {
   "cell_type": "code",
   "execution_count": 23,
   "metadata": {},
   "outputs": [
    {
     "name": "stderr",
     "output_type": "stream",
     "text": [
      "24/02/14 13:36:08 WARN TaskSetManager: Stage 9 contains a task of very large size (14832 KiB). The maximum recommended task size is 1000 KiB.\n",
      "24/02/14 13:36:42 WARN TaskSetManager: Stage 26 contains a task of very large size (14832 KiB). The maximum recommended task size is 1000 KiB.\n",
      "24/02/14 13:37:26 WARN TaskSetManager: Stage 37 contains a task of very large size (14832 KiB). The maximum recommended task size is 1000 KiB.\n",
      "24/02/14 13:37:49 WARN TaskSetManager: Stage 54 contains a task of very large size (14832 KiB). The maximum recommended task size is 1000 KiB.\n",
      "                                                                                \r"
     ]
    }
   ],
   "source": [
    "test_wikidata_all_predicted = test_mentions_with_candidate.where(F.size(\"candidates\") >= 1).count()\n",
    "test_wikidata_TP = (\n",
    "    test_mentions_with_candidate.where(F.size(\"candidates\") >= 1)\n",
    "    .rdd.map(lambda x: 1 if x[\"wikidata_id\"] in [z[0] for z in x[\"candidates\"][:1]] else 0)\n",
    "    .sum()\n",
    ")\n",
    "test_wikidata_P = test_mentions_with_candidate.count()\n",
    "test_wikidata_best_TP = (\n",
    "    test_mentions_with_candidate.where(F.size(\"candidates\") >= 1)\n",
    "    .rdd.map(lambda x: 1 if x[\"wikidata_id\"] in [z[0] for z in x[\"candidates\"]] else 0)\n",
    "    .sum()\n",
    ")"
   ]
  },
  {
   "cell_type": "code",
   "execution_count": null,
   "metadata": {},
   "outputs": [],
   "source": [
    "precision = test_wikidata_TP / test_wikidata_all_predicted\n",
    "recall = test_wikidata_TP / test_wikidata_P\n",
    "f1 = 2 * precision * recall / (precision + recall)\n",
    "print(f1, precision, recall)"
   ]
  },
  {
   "cell_type": "code",
   "execution_count": null,
   "metadata": {},
   "outputs": [],
   "source": [
    "precision = test_wikidata_best_TP / test_wikidata_all_predicted\n",
    "recall = test_wikidata_best_TP / test_wikidata_P\n",
    "f1 = 2 * precision * recall / (precision + recall)\n",
    "print(f1, precision, recall)"
   ]
  },
  {
   "cell_type": "code",
   "execution_count": 24,
   "metadata": {},
   "outputs": [
    {
     "name": "stdout",
     "output_type": "stream",
     "text": [
      "0.6686325616496747 0.6946528586933244 0.644491218616869\n"
     ]
    }
   ],
   "source": [
    "precision = our_tp / test_wikidata_all_predicted\n",
    "recall = our_tp / test_wikidata_P\n",
    "f1 = 2 * precision * recall / (precision + recall)\n",
    "print(f1, precision, recall)"
   ]
  },
  {
   "cell_type": "code",
   "execution_count": null,
   "metadata": {},
   "outputs": [],
   "source": [
    "print(\"no description\")\n",
    "precision = our_tp / test_wikidata_all_predicted\n",
    "recall = our_tp / test_wikidata_P\n",
    "f1 = 2 * precision * recall / (precision + recall)\n",
    "print(f1, precision, recall)"
   ]
  },
  {
   "cell_type": "code",
   "execution_count": null,
   "metadata": {},
   "outputs": [],
   "source": [
    "print(\"no type\")\n",
    "precision = our_tp / test_wikidata_all_predicted\n",
    "recall = our_tp / test_wikidata_P\n",
    "f1 = 2 * precision * recall / (precision + recall)\n",
    "print(f1, precision, recall)"
   ]
  },
  {
   "cell_type": "code",
   "execution_count": null,
   "metadata": {},
   "outputs": [],
   "source": [
    "gs_wikidata_all_predicted = wikipedia_gs_entity_mentions_with_candidate.where(F.size(\"candidates\") >= 1).count()\n",
    "gs_wikidata_TP = (\n",
    "    wikipedia_gs_entity_mentions_with_candidate.where(F.size(\"candidates\") >= 1)\n",
    "    .rdd.map(lambda x: 1 if x[\"wikidata_id\"] in [z[0] for z in x[\"candidates\"][:1]] else 0)\n",
    "    .sum()\n",
    ")\n",
    "gs_wikidata_P = wikipedia_gs_entity_mentions_with_candidate.count()\n",
    "gs_wikidata_best_TP = (\n",
    "    wikipedia_gs_entity_mentions_with_candidate.where(F.size(\"candidates\") >= 1)\n",
    "    .rdd.map(lambda x: 1 if x[\"wikidata_id\"] in [z[0] for z in x[\"candidates\"]] else 0)\n",
    "    .sum()\n",
    ")"
   ]
  },
  {
   "cell_type": "code",
   "execution_count": null,
   "metadata": {},
   "outputs": [],
   "source": [
    "precision = gs_wikidata_TP / gs_wikidata_all_predicted\n",
    "recall = gs_wikidata_TP / gs_wikidata_P\n",
    "f1 = 2 * precision * recall / (precision + recall)\n",
    "print(f1, precision, recall)"
   ]
  },
  {
   "cell_type": "code",
   "execution_count": null,
   "metadata": {},
   "outputs": [],
   "source": [
    "precision = gs_wikidata_best_TP / gs_wikidata_all_predicted\n",
    "recall = gs_wikidata_best_TP / gs_wikidata_P\n",
    "f1 = 2 * precision * recall / (precision + recall)\n",
    "print(f1, precision, recall)"
   ]
  },
  {
   "cell_type": "code",
   "execution_count": null,
   "metadata": {},
   "outputs": [],
   "source": [
    "precision = our_tp / gs_wikidata_all_predicted\n",
    "recall = our_tp / gs_wikidata_P\n",
    "f1 = 2 * precision * recall / (precision + recall)\n",
    "print(f1, precision, recall)"
   ]
  },
  {
   "cell_type": "code",
   "execution_count": null,
   "metadata": {},
   "outputs": [],
   "source": [
    "print(\"no description\")\n",
    "precision = our_tp / gs_wikidata_all_predicted\n",
    "recall = our_tp / gs_wikidata_P\n",
    "f1 = 2 * precision * recall / (precision + recall)\n",
    "print(f1, precision, recall)"
   ]
  },
  {
   "cell_type": "code",
   "execution_count": null,
   "metadata": {},
   "outputs": [],
   "source": [
    "print(\"no type\")\n",
    "precision = our_tp / gs_wikidata_all_predicted\n",
    "recall = our_tp / gs_wikidata_P\n",
    "f1 = 2 * precision * recall / (precision + recall)\n",
    "print(f1, precision, recall)"
   ]
  },
  {
   "cell_type": "code",
   "execution_count": null,
   "metadata": {},
   "outputs": [],
   "source": [
    "our_tp / gs_wikidata_best_TP"
   ]
  },
  {
   "cell_type": "code",
   "execution_count": null,
   "metadata": {},
   "outputs": [],
   "source": [
    "entity_wikidata_target_candidate.where(F.size(\"candidates\") >= 1).count()"
   ]
  },
  {
   "cell_type": "code",
   "execution_count": null,
   "metadata": {},
   "outputs": [],
   "source": [
    "len(recall) / entity_wikidata_target_candidate.count()"
   ]
  },
  {
   "cell_type": "code",
   "execution_count": null,
   "metadata": {},
   "outputs": [],
   "source": [
    "wiki_35k_test = spark.createDataFrame(\n",
    "    sc.textFile(\"../../data/entity_linking/35k_test.ids.txt\").map(lambda x: Row(id=x))\n",
    ")"
   ]
  },
  {
   "cell_type": "code",
   "execution_count": null,
   "metadata": {},
   "outputs": [],
   "source": [
    "wiki_35k_test_recall = (\n",
    "    entity_wikidata_target_candidate.join(wiki_35k_test, \"id\", \"inner\")\n",
    "    .rdd.map(lambda x: x[\"wikidata_id\"] in [z[0] for z in x[\"candidates\"]])\n",
    "    .collect()\n",
    ")\n",
    "wiki_35k_test_precision = (\n",
    "    entity_wikidata_target_candidate.join(wiki_35k_test, \"id\", \"inner\")\n",
    "    .rdd.map(lambda x: x[\"wikidata_id\"] in [z[0] for z in x[\"candidates\"][:1]])\n",
    "    .collect()\n",
    ")"
   ]
  },
  {
   "cell_type": "code",
   "execution_count": null,
   "metadata": {},
   "outputs": [],
   "source": [
    "sum(wiki_35k_test_recall) / len(wiki_35k_test_recall)"
   ]
  },
  {
   "cell_type": "code",
   "execution_count": null,
   "metadata": {},
   "outputs": [],
   "source": [
    "sum(wiki_35k_test_precision) / sum(wiki_35k_test_recall)"
   ]
  },
  {
   "cell_type": "code",
   "execution_count": null,
   "metadata": {},
   "outputs": [],
   "source": [
    "wiki_35k_mentions = entity_wikidata_target.join(wiki_35k_test, \"id\", \"inner\")"
   ]
  },
  {
   "cell_type": "code",
   "execution_count": null,
   "metadata": {},
   "outputs": [],
   "source": [
    "entity_wikidata_target_candidate = entity_wikidata_target.join(entity_googlekg_candidates_df, \"mention\", \"inner\").join(\n",
    "    entity_wikidata_candidates_df, \"mention\", \"inner\"\n",
    ")"
   ]
  },
  {
   "cell_type": "code",
   "execution_count": null,
   "metadata": {},
   "outputs": [],
   "source": [
    "entity_wikidata_target_candidate.count()"
   ]
  },
  {
   "cell_type": "code",
   "execution_count": null,
   "metadata": {},
   "outputs": [],
   "source": [
    "len(entity_mentions_surface)"
   ]
  },
  {
   "cell_type": "markdown",
   "metadata": {},
   "source": [
    "# Limaye"
   ]
  },
  {
   "cell_type": "code",
   "execution_count": null,
   "metadata": {},
   "outputs": [],
   "source": [
    "limaye_tables = sc.wholeTextFiles(\"../../data/efthymiou/LimayeGS/tables_instance\").map(\n",
    "    lambda x: (x[0].split(\"/\")[-1][:-4], list(csv.reader(x[1].split(\"\\n\"))))\n",
    ")"
   ]
  },
  {
   "cell_type": "code",
   "execution_count": null,
   "metadata": {},
   "outputs": [],
   "source": [
    "limaye_tables.take(1)"
   ]
  },
  {
   "cell_type": "code",
   "execution_count": null,
   "metadata": {},
   "outputs": [],
   "source": [
    "sc.wholeTextFiles(\"../../data/efthymiou/LimayeGS/entities_instance\").map(\n",
    "    lambda x: (x[0].split(\"/\")[-1][:-4], list(csv.reader(x[1].split(\"\\n\"))))\n",
    ").flatMap(lambda x: [y for y in x[1] if len(y) == 3]).count()"
   ]
  },
  {
   "cell_type": "code",
   "execution_count": null,
   "metadata": {},
   "outputs": [],
   "source": [
    "limaye_entities = spark.createDataFrame(\n",
    "    sc.wholeTextFiles(\"../../data/efthymiou/LimayeGS/entities_instance\")\n",
    "    .map(lambda x: (x[0].split(\"/\")[-1][:-4], list(csv.reader(x[1].split(\"\\n\")))))\n",
    "    .flatMap(\n",
    "        lambda x: [\n",
    "            Row(\n",
    "                table_id=x[0],\n",
    "                wikipedia_title=y[0].split(\"/\")[-1],\n",
    "                j=0,\n",
    "                i=int(y[2]),\n",
    "                mention=y[1].replace(\"&nbsp;\", \"\").replace(\"&nbsp\", \"\"),\n",
    "            )\n",
    "            for y in x[1]\n",
    "            if len(y) == 3\n",
    "        ]\n",
    "    )\n",
    ").join(wikipedia_wikidata_mapping, \"wikipedia_title\", \"inner\")"
   ]
  },
  {
   "cell_type": "code",
   "execution_count": null,
   "metadata": {},
   "outputs": [],
   "source": [
    "limaye_entity_mentions = list(set(limaye_entities.rdd.map(lambda x: x[\"mention\"]).collect()))\n",
    "print(len(limaye_entity_mentions))"
   ]
  },
  {
   "cell_type": "code",
   "execution_count": null,
   "metadata": {},
   "outputs": [],
   "source": [
    "limaye_entity_mentions[:100]"
   ]
  },
  {
   "cell_type": "code",
   "execution_count": null,
   "metadata": {},
   "outputs": [],
   "source": [
    "entity_limaye_candidates = []\n",
    "i = 0\n",
    "pool = Pool(processes=16)\n",
    "while i < len(limaye_entity_mentions):\n",
    "    print(i)\n",
    "    tmp = list(tqdm(pool.imap(wikidata_lookup, limaye_entity_mentions[i : i + 10000], chunksize=150), total=10000))\n",
    "    entity_limaye_candidates.extend(tmp)\n",
    "    i += 10000\n",
    "pool.close()"
   ]
  },
  {
   "cell_type": "code",
   "execution_count": null,
   "metadata": {},
   "outputs": [],
   "source": [
    "entity_limaye_candidates_df = spark.createDataFrame(\n",
    "    sc.parallelize(entity_limaye_candidates).map(\n",
    "        lambda x: Row(mention=x[0], candidates=x[1] if isinstance(x[1], list) else [])\n",
    "    )\n",
    ")"
   ]
  },
  {
   "cell_type": "code",
   "execution_count": null,
   "metadata": {},
   "outputs": [],
   "source": [
    "limaye_entities_with_candidates = limaye_entities.join(entity_limaye_candidates_df, \"mention\", \"left\")"
   ]
  },
  {
   "cell_type": "code",
   "execution_count": null,
   "metadata": {},
   "outputs": [],
   "source": [
    "limaye_entities_with_candidates.show()"
   ]
  },
  {
   "cell_type": "code",
   "execution_count": null,
   "metadata": {},
   "outputs": [],
   "source": [
    "sample = (\n",
    "    limaye_entities_with_candidates.select(\"table_id\", \"wikidata_id\", \"candidates\", \"i\", \"j\", \"mention\")\n",
    "    .where(~F.isnull(\"candidates\"))\n",
    "    .rdd.map(lambda x: [x[\"table_id\"], x[\"i\"], x[\"j\"], x[\"mention\"], x[\"wikidata_id\"], x[\"candidates\"]])\n",
    "    .filter(lambda x: x[4] in [z[0] for z in x[5]])\n",
    "    .map(lambda x: (x[0], [x[1:]]))\n",
    "    .reduceByKey(add)\n",
    "    .join(limaye_tables)\n",
    "    .take(1)[0]\n",
    ")"
   ]
  },
  {
   "cell_type": "code",
   "execution_count": null,
   "metadata": {},
   "outputs": [],
   "source": [
    "sample[1][1]"
   ]
  },
  {
   "cell_type": "code",
   "execution_count": null,
   "metadata": {},
   "outputs": [],
   "source": [
    "def build_for_own(x):\n",
    "    all_processed = []\n",
    "    table_id = x[0]\n",
    "    pgTitle = \"\"\n",
    "    secTitle = \"\"\n",
    "    caption = \"\"\n",
    "    headers = [\"\" for j in range(len(x[1][1][0]))]\n",
    "    all_entities = x[1][0]\n",
    "    total_num = len(all_entities)\n",
    "    chunck_num = int(total_num / max([1, int(total_num / 25)])) + 1\n",
    "    while len(all_entities) > 0:\n",
    "        entities = []\n",
    "        candidate_entities = {}\n",
    "        labels = []\n",
    "        cand_for_each = []\n",
    "        for e in all_entities[:chunck_num]:\n",
    "            row_i = e[0]\n",
    "            e_mention = e[2]\n",
    "            entities.append([[row_i, 0], e_mention])\n",
    "            for cand in e[4]:\n",
    "                if cand[0] not in candidate_entities:\n",
    "                    candidate_entities[cand[0]] = [\n",
    "                        len(candidate_entities),\n",
    "                        cand[1],\n",
    "                        cand[2],\n",
    "                        dbpedia_types.get(cand[0], []),\n",
    "                    ]\n",
    "            labels.append(candidate_entities[e[3]][0])\n",
    "            cand_for_each.append([candidate_entities[cand[0]][0] for cand in e[4]])\n",
    "            for p, cell in enumerate(x[1][1][row_i][1:]):\n",
    "                e_mention = cell\n",
    "                if e_mention != \"\":\n",
    "                    entities.append([[row_i, p + 1], e_mention])\n",
    "                    labels.append(0)\n",
    "                    cand_for_each.append([])\n",
    "\n",
    "        #         entities = [[[z[0],0],z[2]] for z in all_entities[:50]]\n",
    "        #         candidate_entities = {}\n",
    "        #         for z in all_entities[:50]:\n",
    "        #             for cand in z[4]:\n",
    "        #                 if cand[0] not in candidate_entities:\n",
    "        #                     candidate_entities[cand[0]] = [len(candidate_entities),cand[1],cand[2],dbpedia_types.get(cand[0],[])]\n",
    "        #         labels = [candidate_entities[z[3]][0]  for z in all_entities[:50]]\n",
    "        #         cand_for_each = [[candidate_entities[cand[0]][0] for cand in z[4]] for z in all_entities[:50]]\n",
    "        tmp_candidate_entities = [0] * len(candidate_entities)\n",
    "        for k, v in candidate_entities.items():\n",
    "            tmp_candidate_entities[v[0]] = v[1:]\n",
    "        all_processed.append(\n",
    "            [table_id, pgTitle, secTitle, caption, headers, entities, tmp_candidate_entities, labels, cand_for_each]\n",
    "        )\n",
    "        all_entities = all_entities[chunck_num:]\n",
    "    return all_processed"
   ]
  },
  {
   "cell_type": "code",
   "execution_count": null,
   "metadata": {},
   "outputs": [],
   "source": [
    "build_for_own(sample)[0]"
   ]
  },
  {
   "cell_type": "code",
   "execution_count": null,
   "metadata": {},
   "outputs": [],
   "source": [
    "limaye_local = (\n",
    "    limaye_entities_with_candidates.select(\"table_id\", \"wikidata_id\", \"candidates\", \"i\", \"j\", \"mention\")\n",
    "    .where(~F.isnull(\"candidates\"))\n",
    "    .rdd.map(lambda x: [x[\"table_id\"], x[\"i\"], x[\"j\"], x[\"mention\"], x[\"wikidata_id\"], x[\"candidates\"]])\n",
    "    .filter(lambda x: x[4] in [z[0] for z in x[5]])\n",
    "    .map(lambda x: (x[0], [x[1:]]))\n",
    "    .reduceByKey(add)\n",
    "    .join(limaye_tables)\n",
    "    .flatMap(build_for_own)\n",
    "    .collect()\n",
    ")"
   ]
  },
  {
   "cell_type": "code",
   "execution_count": null,
   "metadata": {},
   "outputs": [],
   "source": [
    "limaye_local[70][8]"
   ]
  },
  {
   "cell_type": "code",
   "execution_count": null,
   "metadata": {},
   "outputs": [],
   "source": [
    "def get_labels_and_candidate(tables):\n",
    "    results = []\n",
    "    for i, entity in enumerate(tables[5]):\n",
    "        if len(tables[8][i]) == 0:\n",
    "            continue\n",
    "        results.append(((tables[0], entity[0][0], entity[0][1]), [tables[7][i], tables[8][i], tables[6]]))\n",
    "    return results"
   ]
  },
  {
   "cell_type": "code",
   "execution_count": null,
   "metadata": {},
   "outputs": [],
   "source": [
    "data_dir = \"/srv/samba/group_workspace_1/deng.595/workspace/table_transformer/data/wikitable_entity/v2/\"\n",
    "with open(data_dir + \"limaye.table_entity_linking.json\", \"w\") as f:\n",
    "    json.dump(limaye_local, f)"
   ]
  },
  {
   "cell_type": "code",
   "execution_count": null,
   "metadata": {},
   "outputs": [],
   "source": [
    "limaye_all_predicted = limaye_entities_with_candidates.where(F.size(\"candidates\") >= 1).count()\n",
    "limaye_TP = (\n",
    "    limaye_entities_with_candidates.where(F.size(\"candidates\") >= 1)\n",
    "    .rdd.map(lambda x: 1 if x[\"wikidata_id\"] in [z[0] for z in x[\"candidates\"][:1]] else 0)\n",
    "    .sum()\n",
    ")\n",
    "limaye_P = limaye_entities_with_candidates.count()\n",
    "limaye_best_TP = (\n",
    "    limaye_entities_with_candidates.where(F.size(\"candidates\") >= 1)\n",
    "    .rdd.map(lambda x: 1 if x[\"wikidata_id\"] in [z[0] for z in x[\"candidates\"]] else 0)\n",
    "    .sum()\n",
    ")"
   ]
  },
  {
   "cell_type": "code",
   "execution_count": null,
   "metadata": {},
   "outputs": [],
   "source": [
    "precision = limaye_TP / limaye_all_predicted\n",
    "recall = limaye_TP / limaye_P\n",
    "f1 = 2 * precision * recall / (precision + recall)\n",
    "print(f1, precision, recall)"
   ]
  },
  {
   "cell_type": "code",
   "execution_count": null,
   "metadata": {},
   "outputs": [],
   "source": [
    "import pickle\n",
    "\n",
    "with open(\n",
    "    \"/srv/samba/group_workspace_1/deng.595/workspace/table_transformer/data/wikitable_entity/v2/limaye_entity_linking_results_0.pkl\",\n",
    "    \"rb\",\n",
    ") as f:\n",
    "    test_results = pickle.load(f)"
   ]
  },
  {
   "cell_type": "code",
   "execution_count": null,
   "metadata": {},
   "outputs": [],
   "source": [
    "our_tp = (\n",
    "    sc.parallelize(limaye_local)\n",
    "    .flatMap(get_labels_and_candidate)\n",
    "    .join(sc.parallelize(test_results).flatMap(lambda x: [((x[0], z[0], z[1]), x[2][i]) for i, z in enumerate(x[1])]))\n",
    "    .map(get_tp)\n",
    "    .sum()\n",
    ")"
   ]
  },
  {
   "cell_type": "code",
   "execution_count": null,
   "metadata": {},
   "outputs": [],
   "source": [
    "precision = our_tp / limaye_all_predicted\n",
    "recall = our_tp / limaye_P\n",
    "f1 = 2 * precision * recall / (precision + recall)\n",
    "print(f1, precision, recall)"
   ]
  },
  {
   "cell_type": "code",
   "execution_count": null,
   "metadata": {},
   "outputs": [],
   "source": []
  }
 ],
 "metadata": {
  "kernelspec": {
   "display_name": "Python 3",
   "language": "python",
   "name": "python3"
  },
  "language_info": {
   "codemirror_mode": {
    "name": "ipython",
    "version": 3
   },
   "file_extension": ".py",
   "mimetype": "text/x-python",
   "name": "python",
   "nbconvert_exporter": "python",
   "pygments_lexer": "ipython3",
   "version": "3.9.18"
  }
 },
 "nbformat": 4,
 "nbformat_minor": 2
}
